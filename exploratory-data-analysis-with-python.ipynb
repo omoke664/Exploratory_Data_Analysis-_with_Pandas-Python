{
 "cells": [
  {
   "cell_type": "code",
   "execution_count": 1,
   "id": "7a3ed347",
   "metadata": {
    "_cell_guid": "b1076dfc-b9ad-4769-8c92-a6c4dae69d19",
    "_uuid": "8f2839f25d086af736a60e9eeb907d3b93b6e0e5",
    "execution": {
     "iopub.execute_input": "2024-04-03T21:06:27.268101Z",
     "iopub.status.busy": "2024-04-03T21:06:27.267673Z",
     "iopub.status.idle": "2024-04-03T21:06:42.760049Z",
     "shell.execute_reply": "2024-04-03T21:06:42.758934Z"
    },
    "papermill": {
     "duration": 15.517025,
     "end_time": "2024-04-03T21:06:42.762615",
     "exception": false,
     "start_time": "2024-04-03T21:06:27.245590",
     "status": "completed"
    },
    "tags": []
   },
   "outputs": [
    {
     "data": {
      "text/html": [
       "<div>\n",
       "<style scoped>\n",
       "    .dataframe tbody tr th:only-of-type {\n",
       "        vertical-align: middle;\n",
       "    }\n",
       "\n",
       "    .dataframe tbody tr th {\n",
       "        vertical-align: top;\n",
       "    }\n",
       "\n",
       "    .dataframe thead th {\n",
       "        text-align: right;\n",
       "    }\n",
       "</style>\n",
       "<table border=\"1\" class=\"dataframe\">\n",
       "  <thead>\n",
       "    <tr style=\"text-align: right;\">\n",
       "      <th></th>\n",
       "      <th>url</th>\n",
       "      <th>address</th>\n",
       "      <th>name</th>\n",
       "      <th>online_order</th>\n",
       "      <th>book_table</th>\n",
       "      <th>rate</th>\n",
       "      <th>votes</th>\n",
       "      <th>phone</th>\n",
       "      <th>location</th>\n",
       "      <th>rest_type</th>\n",
       "      <th>dish_liked</th>\n",
       "      <th>cuisines</th>\n",
       "      <th>approx_cost(for two people)</th>\n",
       "      <th>reviews_list</th>\n",
       "      <th>menu_item</th>\n",
       "      <th>listed_in(type)</th>\n",
       "      <th>listed_in(city)</th>\n",
       "    </tr>\n",
       "  </thead>\n",
       "  <tbody>\n",
       "    <tr>\n",
       "      <th>0</th>\n",
       "      <td>https://www.zomato.com/bangalore/jalsa-banasha...</td>\n",
       "      <td>942, 21st Main Road, 2nd Stage, Banashankari, ...</td>\n",
       "      <td>Jalsa</td>\n",
       "      <td>Yes</td>\n",
       "      <td>Yes</td>\n",
       "      <td>4.1/5</td>\n",
       "      <td>775</td>\n",
       "      <td>080 42297555\\r\\n+91 9743772233</td>\n",
       "      <td>Banashankari</td>\n",
       "      <td>Casual Dining</td>\n",
       "      <td>Pasta, Lunch Buffet, Masala Papad, Paneer Laja...</td>\n",
       "      <td>North Indian, Mughlai, Chinese</td>\n",
       "      <td>800</td>\n",
       "      <td>[('Rated 4.0', 'RATED\\n  A beautiful place to ...</td>\n",
       "      <td>[]</td>\n",
       "      <td>Buffet</td>\n",
       "      <td>Banashankari</td>\n",
       "    </tr>\n",
       "    <tr>\n",
       "      <th>1</th>\n",
       "      <td>https://www.zomato.com/bangalore/spice-elephan...</td>\n",
       "      <td>2nd Floor, 80 Feet Road, Near Big Bazaar, 6th ...</td>\n",
       "      <td>Spice Elephant</td>\n",
       "      <td>Yes</td>\n",
       "      <td>No</td>\n",
       "      <td>4.1/5</td>\n",
       "      <td>787</td>\n",
       "      <td>080 41714161</td>\n",
       "      <td>Banashankari</td>\n",
       "      <td>Casual Dining</td>\n",
       "      <td>Momos, Lunch Buffet, Chocolate Nirvana, Thai G...</td>\n",
       "      <td>Chinese, North Indian, Thai</td>\n",
       "      <td>800</td>\n",
       "      <td>[('Rated 4.0', 'RATED\\n  Had been here for din...</td>\n",
       "      <td>[]</td>\n",
       "      <td>Buffet</td>\n",
       "      <td>Banashankari</td>\n",
       "    </tr>\n",
       "    <tr>\n",
       "      <th>2</th>\n",
       "      <td>https://www.zomato.com/SanchurroBangalore?cont...</td>\n",
       "      <td>1112, Next to KIMS Medical College, 17th Cross...</td>\n",
       "      <td>San Churro Cafe</td>\n",
       "      <td>Yes</td>\n",
       "      <td>No</td>\n",
       "      <td>3.8/5</td>\n",
       "      <td>918</td>\n",
       "      <td>+91 9663487993</td>\n",
       "      <td>Banashankari</td>\n",
       "      <td>Cafe, Casual Dining</td>\n",
       "      <td>Churros, Cannelloni, Minestrone Soup, Hot Choc...</td>\n",
       "      <td>Cafe, Mexican, Italian</td>\n",
       "      <td>800</td>\n",
       "      <td>[('Rated 3.0', \"RATED\\n  Ambience is not that ...</td>\n",
       "      <td>[]</td>\n",
       "      <td>Buffet</td>\n",
       "      <td>Banashankari</td>\n",
       "    </tr>\n",
       "    <tr>\n",
       "      <th>3</th>\n",
       "      <td>https://www.zomato.com/bangalore/addhuri-udupi...</td>\n",
       "      <td>1st Floor, Annakuteera, 3rd Stage, Banashankar...</td>\n",
       "      <td>Addhuri Udupi Bhojana</td>\n",
       "      <td>No</td>\n",
       "      <td>No</td>\n",
       "      <td>3.7/5</td>\n",
       "      <td>88</td>\n",
       "      <td>+91 9620009302</td>\n",
       "      <td>Banashankari</td>\n",
       "      <td>Quick Bites</td>\n",
       "      <td>Masala Dosa</td>\n",
       "      <td>South Indian, North Indian</td>\n",
       "      <td>300</td>\n",
       "      <td>[('Rated 4.0', \"RATED\\n  Great food and proper...</td>\n",
       "      <td>[]</td>\n",
       "      <td>Buffet</td>\n",
       "      <td>Banashankari</td>\n",
       "    </tr>\n",
       "    <tr>\n",
       "      <th>4</th>\n",
       "      <td>https://www.zomato.com/bangalore/grand-village...</td>\n",
       "      <td>10, 3rd Floor, Lakshmi Associates, Gandhi Baza...</td>\n",
       "      <td>Grand Village</td>\n",
       "      <td>No</td>\n",
       "      <td>No</td>\n",
       "      <td>3.8/5</td>\n",
       "      <td>166</td>\n",
       "      <td>+91 8026612447\\r\\n+91 9901210005</td>\n",
       "      <td>Basavanagudi</td>\n",
       "      <td>Casual Dining</td>\n",
       "      <td>Panipuri, Gol Gappe</td>\n",
       "      <td>North Indian, Rajasthani</td>\n",
       "      <td>600</td>\n",
       "      <td>[('Rated 4.0', 'RATED\\n  Very good restaurant ...</td>\n",
       "      <td>[]</td>\n",
       "      <td>Buffet</td>\n",
       "      <td>Banashankari</td>\n",
       "    </tr>\n",
       "  </tbody>\n",
       "</table>\n",
       "</div>"
      ],
      "text/plain": [
       "                                                 url  \\\n",
       "0  https://www.zomato.com/bangalore/jalsa-banasha...   \n",
       "1  https://www.zomato.com/bangalore/spice-elephan...   \n",
       "2  https://www.zomato.com/SanchurroBangalore?cont...   \n",
       "3  https://www.zomato.com/bangalore/addhuri-udupi...   \n",
       "4  https://www.zomato.com/bangalore/grand-village...   \n",
       "\n",
       "                                             address                   name  \\\n",
       "0  942, 21st Main Road, 2nd Stage, Banashankari, ...                  Jalsa   \n",
       "1  2nd Floor, 80 Feet Road, Near Big Bazaar, 6th ...         Spice Elephant   \n",
       "2  1112, Next to KIMS Medical College, 17th Cross...        San Churro Cafe   \n",
       "3  1st Floor, Annakuteera, 3rd Stage, Banashankar...  Addhuri Udupi Bhojana   \n",
       "4  10, 3rd Floor, Lakshmi Associates, Gandhi Baza...          Grand Village   \n",
       "\n",
       "  online_order book_table   rate  votes                             phone  \\\n",
       "0          Yes        Yes  4.1/5    775    080 42297555\\r\\n+91 9743772233   \n",
       "1          Yes         No  4.1/5    787                      080 41714161   \n",
       "2          Yes         No  3.8/5    918                    +91 9663487993   \n",
       "3           No         No  3.7/5     88                    +91 9620009302   \n",
       "4           No         No  3.8/5    166  +91 8026612447\\r\\n+91 9901210005   \n",
       "\n",
       "       location            rest_type  \\\n",
       "0  Banashankari        Casual Dining   \n",
       "1  Banashankari        Casual Dining   \n",
       "2  Banashankari  Cafe, Casual Dining   \n",
       "3  Banashankari          Quick Bites   \n",
       "4  Basavanagudi        Casual Dining   \n",
       "\n",
       "                                          dish_liked  \\\n",
       "0  Pasta, Lunch Buffet, Masala Papad, Paneer Laja...   \n",
       "1  Momos, Lunch Buffet, Chocolate Nirvana, Thai G...   \n",
       "2  Churros, Cannelloni, Minestrone Soup, Hot Choc...   \n",
       "3                                        Masala Dosa   \n",
       "4                                Panipuri, Gol Gappe   \n",
       "\n",
       "                         cuisines approx_cost(for two people)  \\\n",
       "0  North Indian, Mughlai, Chinese                         800   \n",
       "1     Chinese, North Indian, Thai                         800   \n",
       "2          Cafe, Mexican, Italian                         800   \n",
       "3      South Indian, North Indian                         300   \n",
       "4        North Indian, Rajasthani                         600   \n",
       "\n",
       "                                        reviews_list menu_item  \\\n",
       "0  [('Rated 4.0', 'RATED\\n  A beautiful place to ...        []   \n",
       "1  [('Rated 4.0', 'RATED\\n  Had been here for din...        []   \n",
       "2  [('Rated 3.0', \"RATED\\n  Ambience is not that ...        []   \n",
       "3  [('Rated 4.0', \"RATED\\n  Great food and proper...        []   \n",
       "4  [('Rated 4.0', 'RATED\\n  Very good restaurant ...        []   \n",
       "\n",
       "  listed_in(type) listed_in(city)  \n",
       "0          Buffet    Banashankari  \n",
       "1          Buffet    Banashankari  \n",
       "2          Buffet    Banashankari  \n",
       "3          Buffet    Banashankari  \n",
       "4          Buffet    Banashankari  "
      ]
     },
     "execution_count": 1,
     "metadata": {},
     "output_type": "execute_result"
    }
   ],
   "source": [
    "# This Python 3 environment comes with many helpful analytics libraries installed\n",
    "# It is defined by the kaggle/python Docker image: https://github.com/kaggle/docker-python\n",
    "# For example, here's several helpful packages to load\n",
    "\n",
    "import numpy as np # linear algebra\n",
    "import pandas as pd # data processing, CSV file I/O (e.g. pd.read_csv)\n",
    "import matplotlib.pyplot as plt\n",
    "import seaborn as sns\n",
    "plt.style.use('dark_background')\n",
    "\n",
    "\n",
    "df = pd.read_csv('/kaggle/input/zomato-bangalore-dataset/zomato.csv')\n",
    "df.head()\n"
   ]
  },
  {
   "cell_type": "markdown",
   "id": "5ace1feb",
   "metadata": {
    "papermill": {
     "duration": 0.018979,
     "end_time": "2024-04-03T21:06:42.801334",
     "exception": false,
     "start_time": "2024-04-03T21:06:42.782355",
     "status": "completed"
    },
    "tags": []
   },
   "source": [
    "Checking shape"
   ]
  },
  {
   "cell_type": "code",
   "execution_count": 2,
   "id": "92dc88d7",
   "metadata": {
    "execution": {
     "iopub.execute_input": "2024-04-03T21:06:42.843329Z",
     "iopub.status.busy": "2024-04-03T21:06:42.842917Z",
     "iopub.status.idle": "2024-04-03T21:06:42.849669Z",
     "shell.execute_reply": "2024-04-03T21:06:42.848501Z"
    },
    "papermill": {
     "duration": 0.031449,
     "end_time": "2024-04-03T21:06:42.852473",
     "exception": false,
     "start_time": "2024-04-03T21:06:42.821024",
     "status": "completed"
    },
    "tags": []
   },
   "outputs": [
    {
     "data": {
      "text/plain": [
       "(51717, 17)"
      ]
     },
     "execution_count": 2,
     "metadata": {},
     "output_type": "execute_result"
    }
   ],
   "source": [
    "df.shape"
   ]
  },
  {
   "cell_type": "code",
   "execution_count": 3,
   "id": "c7af2422",
   "metadata": {
    "execution": {
     "iopub.execute_input": "2024-04-03T21:06:42.893416Z",
     "iopub.status.busy": "2024-04-03T21:06:42.893003Z",
     "iopub.status.idle": "2024-04-03T21:06:42.922464Z",
     "shell.execute_reply": "2024-04-03T21:06:42.921036Z"
    },
    "papermill": {
     "duration": 0.053091,
     "end_time": "2024-04-03T21:06:42.925095",
     "exception": false,
     "start_time": "2024-04-03T21:06:42.872004",
     "status": "completed"
    },
    "tags": []
   },
   "outputs": [
    {
     "data": {
      "text/html": [
       "<div>\n",
       "<style scoped>\n",
       "    .dataframe tbody tr th:only-of-type {\n",
       "        vertical-align: middle;\n",
       "    }\n",
       "\n",
       "    .dataframe tbody tr th {\n",
       "        vertical-align: top;\n",
       "    }\n",
       "\n",
       "    .dataframe thead th {\n",
       "        text-align: right;\n",
       "    }\n",
       "</style>\n",
       "<table border=\"1\" class=\"dataframe\">\n",
       "  <thead>\n",
       "    <tr style=\"text-align: right;\">\n",
       "      <th></th>\n",
       "      <th>name</th>\n",
       "      <th>online_order</th>\n",
       "      <th>book_table</th>\n",
       "      <th>rate</th>\n",
       "      <th>votes</th>\n",
       "      <th>location</th>\n",
       "      <th>rest_type</th>\n",
       "      <th>cuisines</th>\n",
       "      <th>approx_cost(for two people)</th>\n",
       "      <th>listed_in(type)</th>\n",
       "      <th>listed_in(city)</th>\n",
       "    </tr>\n",
       "  </thead>\n",
       "  <tbody>\n",
       "    <tr>\n",
       "      <th>0</th>\n",
       "      <td>Jalsa</td>\n",
       "      <td>Yes</td>\n",
       "      <td>Yes</td>\n",
       "      <td>4.1/5</td>\n",
       "      <td>775</td>\n",
       "      <td>Banashankari</td>\n",
       "      <td>Casual Dining</td>\n",
       "      <td>North Indian, Mughlai, Chinese</td>\n",
       "      <td>800</td>\n",
       "      <td>Buffet</td>\n",
       "      <td>Banashankari</td>\n",
       "    </tr>\n",
       "    <tr>\n",
       "      <th>1</th>\n",
       "      <td>Spice Elephant</td>\n",
       "      <td>Yes</td>\n",
       "      <td>No</td>\n",
       "      <td>4.1/5</td>\n",
       "      <td>787</td>\n",
       "      <td>Banashankari</td>\n",
       "      <td>Casual Dining</td>\n",
       "      <td>Chinese, North Indian, Thai</td>\n",
       "      <td>800</td>\n",
       "      <td>Buffet</td>\n",
       "      <td>Banashankari</td>\n",
       "    </tr>\n",
       "    <tr>\n",
       "      <th>2</th>\n",
       "      <td>San Churro Cafe</td>\n",
       "      <td>Yes</td>\n",
       "      <td>No</td>\n",
       "      <td>3.8/5</td>\n",
       "      <td>918</td>\n",
       "      <td>Banashankari</td>\n",
       "      <td>Cafe, Casual Dining</td>\n",
       "      <td>Cafe, Mexican, Italian</td>\n",
       "      <td>800</td>\n",
       "      <td>Buffet</td>\n",
       "      <td>Banashankari</td>\n",
       "    </tr>\n",
       "    <tr>\n",
       "      <th>3</th>\n",
       "      <td>Addhuri Udupi Bhojana</td>\n",
       "      <td>No</td>\n",
       "      <td>No</td>\n",
       "      <td>3.7/5</td>\n",
       "      <td>88</td>\n",
       "      <td>Banashankari</td>\n",
       "      <td>Quick Bites</td>\n",
       "      <td>South Indian, North Indian</td>\n",
       "      <td>300</td>\n",
       "      <td>Buffet</td>\n",
       "      <td>Banashankari</td>\n",
       "    </tr>\n",
       "    <tr>\n",
       "      <th>4</th>\n",
       "      <td>Grand Village</td>\n",
       "      <td>No</td>\n",
       "      <td>No</td>\n",
       "      <td>3.8/5</td>\n",
       "      <td>166</td>\n",
       "      <td>Basavanagudi</td>\n",
       "      <td>Casual Dining</td>\n",
       "      <td>North Indian, Rajasthani</td>\n",
       "      <td>600</td>\n",
       "      <td>Buffet</td>\n",
       "      <td>Banashankari</td>\n",
       "    </tr>\n",
       "  </tbody>\n",
       "</table>\n",
       "</div>"
      ],
      "text/plain": [
       "                    name online_order book_table   rate  votes      location  \\\n",
       "0                  Jalsa          Yes        Yes  4.1/5    775  Banashankari   \n",
       "1         Spice Elephant          Yes         No  4.1/5    787  Banashankari   \n",
       "2        San Churro Cafe          Yes         No  3.8/5    918  Banashankari   \n",
       "3  Addhuri Udupi Bhojana           No         No  3.7/5     88  Banashankari   \n",
       "4          Grand Village           No         No  3.8/5    166  Basavanagudi   \n",
       "\n",
       "             rest_type                        cuisines  \\\n",
       "0        Casual Dining  North Indian, Mughlai, Chinese   \n",
       "1        Casual Dining     Chinese, North Indian, Thai   \n",
       "2  Cafe, Casual Dining          Cafe, Mexican, Italian   \n",
       "3          Quick Bites      South Indian, North Indian   \n",
       "4        Casual Dining        North Indian, Rajasthani   \n",
       "\n",
       "  approx_cost(for two people) listed_in(type) listed_in(city)  \n",
       "0                         800          Buffet    Banashankari  \n",
       "1                         800          Buffet    Banashankari  \n",
       "2                         800          Buffet    Banashankari  \n",
       "3                         300          Buffet    Banashankari  \n",
       "4                         600          Buffet    Banashankari  "
      ]
     },
     "execution_count": 3,
     "metadata": {},
     "output_type": "execute_result"
    }
   ],
   "source": [
    "df = df.drop(['url', 'address', 'phone', 'menu_item', 'dish_liked', 'reviews_list'], axis = 1)\n",
    "df.head()"
   ]
  },
  {
   "cell_type": "code",
   "execution_count": 4,
   "id": "a805bc96",
   "metadata": {
    "execution": {
     "iopub.execute_input": "2024-04-03T21:06:42.967463Z",
     "iopub.status.busy": "2024-04-03T21:06:42.967037Z",
     "iopub.status.idle": "2024-04-03T21:06:43.051238Z",
     "shell.execute_reply": "2024-04-03T21:06:43.049649Z"
    },
    "papermill": {
     "duration": 0.108849,
     "end_time": "2024-04-03T21:06:43.053940",
     "exception": false,
     "start_time": "2024-04-03T21:06:42.945091",
     "status": "completed"
    },
    "tags": []
   },
   "outputs": [
    {
     "name": "stdout",
     "output_type": "stream",
     "text": [
      "<class 'pandas.core.frame.DataFrame'>\n",
      "RangeIndex: 51717 entries, 0 to 51716\n",
      "Data columns (total 11 columns):\n",
      " #   Column                       Non-Null Count  Dtype \n",
      "---  ------                       --------------  ----- \n",
      " 0   name                         51717 non-null  object\n",
      " 1   online_order                 51717 non-null  object\n",
      " 2   book_table                   51717 non-null  object\n",
      " 3   rate                         43942 non-null  object\n",
      " 4   votes                        51717 non-null  int64 \n",
      " 5   location                     51696 non-null  object\n",
      " 6   rest_type                    51490 non-null  object\n",
      " 7   cuisines                     51672 non-null  object\n",
      " 8   approx_cost(for two people)  51371 non-null  object\n",
      " 9   listed_in(type)              51717 non-null  object\n",
      " 10  listed_in(city)              51717 non-null  object\n",
      "dtypes: int64(1), object(10)\n",
      "memory usage: 4.3+ MB\n"
     ]
    }
   ],
   "source": [
    "df.info()"
   ]
  },
  {
   "cell_type": "markdown",
   "id": "7c0f8085",
   "metadata": {
    "papermill": {
     "duration": 0.019798,
     "end_time": "2024-04-03T21:06:43.095611",
     "exception": false,
     "start_time": "2024-04-03T21:06:43.075813",
     "status": "completed"
    },
    "tags": []
   },
   "source": [
    "Dropping Duplicates"
   ]
  },
  {
   "cell_type": "code",
   "execution_count": 5,
   "id": "eb067930",
   "metadata": {
    "execution": {
     "iopub.execute_input": "2024-04-03T21:06:43.150017Z",
     "iopub.status.busy": "2024-04-03T21:06:43.149589Z",
     "iopub.status.idle": "2024-04-03T21:06:43.255321Z",
     "shell.execute_reply": "2024-04-03T21:06:43.254112Z"
    },
    "papermill": {
     "duration": 0.138259,
     "end_time": "2024-04-03T21:06:43.257658",
     "exception": false,
     "start_time": "2024-04-03T21:06:43.119399",
     "status": "completed"
    },
    "tags": []
   },
   "outputs": [
    {
     "data": {
      "text/plain": [
       "(51609, 11)"
      ]
     },
     "execution_count": 5,
     "metadata": {},
     "output_type": "execute_result"
    }
   ],
   "source": [
    "df.drop_duplicates(inplace = True)\n",
    "df.shape"
   ]
  },
  {
   "cell_type": "code",
   "execution_count": 6,
   "id": "ebc0cb8a",
   "metadata": {
    "execution": {
     "iopub.execute_input": "2024-04-03T21:06:43.300488Z",
     "iopub.status.busy": "2024-04-03T21:06:43.299734Z",
     "iopub.status.idle": "2024-04-03T21:06:43.310730Z",
     "shell.execute_reply": "2024-04-03T21:06:43.309553Z"
    },
    "papermill": {
     "duration": 0.035254,
     "end_time": "2024-04-03T21:06:43.312970",
     "exception": false,
     "start_time": "2024-04-03T21:06:43.277716",
     "status": "completed"
    },
    "tags": []
   },
   "outputs": [
    {
     "data": {
      "text/plain": [
       "array(['4.1/5', '3.8/5', '3.7/5', '3.6/5', '4.6/5', '4.0/5', '4.2/5',\n",
       "       '3.9/5', '3.1/5', '3.0/5', '3.2/5', '3.3/5', '2.8/5', '4.4/5',\n",
       "       '4.3/5', 'NEW', '2.9/5', '3.5/5', nan, '2.6/5', '3.8 /5', '3.4/5',\n",
       "       '4.5/5', '2.5/5', '2.7/5', '4.7/5', '2.4/5', '2.2/5', '2.3/5',\n",
       "       '3.4 /5', '-', '3.6 /5', '4.8/5', '3.9 /5', '4.2 /5', '4.0 /5',\n",
       "       '4.1 /5', '3.7 /5', '3.1 /5', '2.9 /5', '3.3 /5', '2.8 /5',\n",
       "       '3.5 /5', '2.7 /5', '2.5 /5', '3.2 /5', '2.6 /5', '4.5 /5',\n",
       "       '4.3 /5', '4.4 /5', '4.9/5', '2.1/5', '2.0/5', '1.8/5', '4.6 /5',\n",
       "       '4.9 /5', '3.0 /5', '4.8 /5', '2.3 /5', '4.7 /5', '2.4 /5',\n",
       "       '2.1 /5', '2.2 /5', '2.0 /5', '1.8 /5'], dtype=object)"
      ]
     },
     "execution_count": 6,
     "metadata": {},
     "output_type": "execute_result"
    }
   ],
   "source": [
    "df['rate'].unique()"
   ]
  },
  {
   "cell_type": "code",
   "execution_count": 7,
   "id": "f09720c1",
   "metadata": {
    "execution": {
     "iopub.execute_input": "2024-04-03T21:06:43.356159Z",
     "iopub.status.busy": "2024-04-03T21:06:43.355427Z",
     "iopub.status.idle": "2024-04-03T21:06:43.427896Z",
     "shell.execute_reply": "2024-04-03T21:06:43.426133Z"
    },
    "papermill": {
     "duration": 0.097353,
     "end_time": "2024-04-03T21:06:43.430971",
     "exception": false,
     "start_time": "2024-04-03T21:06:43.333618",
     "status": "completed"
    },
    "tags": []
   },
   "outputs": [
    {
     "name": "stdout",
     "output_type": "stream",
     "text": [
      "0    4.1\n",
      "1    4.1\n",
      "2    3.8\n",
      "3    3.7\n",
      "4    3.8\n",
      "Name: rate, dtype: float64\n"
     ]
    }
   ],
   "source": [
    "import numpy as np\n",
    "\n",
    "def handlerate(value):\n",
    "    if value == 'NEW' or value == '-':\n",
    "        return np.nan\n",
    "    else:\n",
    "        value_parts = str(value).split('/')\n",
    "        return float(value_parts[0]) if len(value_parts) > 0 else np.nan\n",
    "\n",
    "df['rate'] = df['rate'].apply(handlerate)\n",
    "print(df['rate'].head())\n"
   ]
  },
  {
   "cell_type": "markdown",
   "id": "1ec824be",
   "metadata": {
    "papermill": {
     "duration": 0.019935,
     "end_time": "2024-04-03T21:06:43.471212",
     "exception": false,
     "start_time": "2024-04-03T21:06:43.451277",
     "status": "completed"
    },
    "tags": []
   },
   "source": [
    "Checking for the number of null values"
   ]
  },
  {
   "cell_type": "code",
   "execution_count": 8,
   "id": "ec93e587",
   "metadata": {
    "execution": {
     "iopub.execute_input": "2024-04-03T21:06:43.513656Z",
     "iopub.status.busy": "2024-04-03T21:06:43.513254Z",
     "iopub.status.idle": "2024-04-03T21:06:43.521108Z",
     "shell.execute_reply": "2024-04-03T21:06:43.519999Z"
    },
    "papermill": {
     "duration": 0.032057,
     "end_time": "2024-04-03T21:06:43.523410",
     "exception": false,
     "start_time": "2024-04-03T21:06:43.491353",
     "status": "completed"
    },
    "tags": []
   },
   "outputs": [
    {
     "data": {
      "text/plain": [
       "10019"
      ]
     },
     "execution_count": 8,
     "metadata": {},
     "output_type": "execute_result"
    }
   ],
   "source": [
    "df.rate.isnull().sum()"
   ]
  },
  {
   "cell_type": "markdown",
   "id": "40b21025",
   "metadata": {
    "papermill": {
     "duration": 0.020151,
     "end_time": "2024-04-03T21:06:43.564600",
     "exception": false,
     "start_time": "2024-04-03T21:06:43.544449",
     "status": "completed"
    },
    "tags": []
   },
   "source": [
    "Filling Null Values in Rate Column with Mean"
   ]
  },
  {
   "cell_type": "code",
   "execution_count": 9,
   "id": "f20fa13d",
   "metadata": {
    "execution": {
     "iopub.execute_input": "2024-04-03T21:06:43.608325Z",
     "iopub.status.busy": "2024-04-03T21:06:43.607234Z",
     "iopub.status.idle": "2024-04-03T21:06:43.616363Z",
     "shell.execute_reply": "2024-04-03T21:06:43.614840Z"
    },
    "papermill": {
     "duration": 0.033067,
     "end_time": "2024-04-03T21:06:43.618477",
     "exception": false,
     "start_time": "2024-04-03T21:06:43.585410",
     "status": "completed"
    },
    "tags": []
   },
   "outputs": [
    {
     "name": "stdout",
     "output_type": "stream",
     "text": [
      "Number of missing values in 'rate' column: 10019\n"
     ]
    }
   ],
   "source": [
    "# Fill missing values with the mean\n",
    "df['rate'].fillna(df['rate'].mean())\n",
    "\n",
    "# Check the number of missing values\n",
    "missing_values_count = df['rate'].isnull().sum()\n",
    "print(\"Number of missing values in 'rate' column:\", missing_values_count)"
   ]
  },
  {
   "cell_type": "code",
   "execution_count": 10,
   "id": "0ae0331f",
   "metadata": {
    "execution": {
     "iopub.execute_input": "2024-04-03T21:06:43.662979Z",
     "iopub.status.busy": "2024-04-03T21:06:43.662211Z",
     "iopub.status.idle": "2024-04-03T21:06:43.722627Z",
     "shell.execute_reply": "2024-04-03T21:06:43.721426Z"
    },
    "papermill": {
     "duration": 0.086147,
     "end_time": "2024-04-03T21:06:43.725205",
     "exception": false,
     "start_time": "2024-04-03T21:06:43.639058",
     "status": "completed"
    },
    "tags": []
   },
   "outputs": [
    {
     "name": "stdout",
     "output_type": "stream",
     "text": [
      "<class 'pandas.core.frame.DataFrame'>\n",
      "Index: 51609 entries, 0 to 51716\n",
      "Data columns (total 11 columns):\n",
      " #   Column                       Non-Null Count  Dtype  \n",
      "---  ------                       --------------  -----  \n",
      " 0   name                         51609 non-null  object \n",
      " 1   online_order                 51609 non-null  object \n",
      " 2   book_table                   51609 non-null  object \n",
      " 3   rate                         41590 non-null  float64\n",
      " 4   votes                        51609 non-null  int64  \n",
      " 5   location                     51588 non-null  object \n",
      " 6   rest_type                    51382 non-null  object \n",
      " 7   cuisines                     51564 non-null  object \n",
      " 8   approx_cost(for two people)  51265 non-null  object \n",
      " 9   listed_in(type)              51609 non-null  object \n",
      " 10  listed_in(city)              51609 non-null  object \n",
      "dtypes: float64(1), int64(1), object(9)\n",
      "memory usage: 4.7+ MB\n"
     ]
    }
   ],
   "source": [
    "df.info()"
   ]
  },
  {
   "cell_type": "markdown",
   "id": "e243bb37",
   "metadata": {
    "papermill": {
     "duration": 0.02034,
     "end_time": "2024-04-03T21:06:43.766185",
     "exception": false,
     "start_time": "2024-04-03T21:06:43.745845",
     "status": "completed"
    },
    "tags": []
   },
   "source": [
    "Dropping Null Values"
   ]
  },
  {
   "cell_type": "code",
   "execution_count": 11,
   "id": "98d1e0a4",
   "metadata": {
    "execution": {
     "iopub.execute_input": "2024-04-03T21:06:43.809813Z",
     "iopub.status.busy": "2024-04-03T21:06:43.809143Z",
     "iopub.status.idle": "2024-04-03T21:06:43.882716Z",
     "shell.execute_reply": "2024-04-03T21:06:43.881539Z"
    },
    "papermill": {
     "duration": 0.098427,
     "end_time": "2024-04-03T21:06:43.885261",
     "exception": false,
     "start_time": "2024-04-03T21:06:43.786834",
     "status": "completed"
    },
    "tags": []
   },
   "outputs": [
    {
     "data": {
      "text/html": [
       "<div>\n",
       "<style scoped>\n",
       "    .dataframe tbody tr th:only-of-type {\n",
       "        vertical-align: middle;\n",
       "    }\n",
       "\n",
       "    .dataframe tbody tr th {\n",
       "        vertical-align: top;\n",
       "    }\n",
       "\n",
       "    .dataframe thead th {\n",
       "        text-align: right;\n",
       "    }\n",
       "</style>\n",
       "<table border=\"1\" class=\"dataframe\">\n",
       "  <thead>\n",
       "    <tr style=\"text-align: right;\">\n",
       "      <th></th>\n",
       "      <th>name</th>\n",
       "      <th>online_order</th>\n",
       "      <th>book_table</th>\n",
       "      <th>rate</th>\n",
       "      <th>votes</th>\n",
       "      <th>location</th>\n",
       "      <th>rest_type</th>\n",
       "      <th>cuisines</th>\n",
       "      <th>approx_cost(for two people)</th>\n",
       "      <th>listed_in(type)</th>\n",
       "      <th>listed_in(city)</th>\n",
       "    </tr>\n",
       "  </thead>\n",
       "  <tbody>\n",
       "    <tr>\n",
       "      <th>0</th>\n",
       "      <td>Jalsa</td>\n",
       "      <td>Yes</td>\n",
       "      <td>Yes</td>\n",
       "      <td>4.1</td>\n",
       "      <td>775</td>\n",
       "      <td>Banashankari</td>\n",
       "      <td>Casual Dining</td>\n",
       "      <td>North Indian, Mughlai, Chinese</td>\n",
       "      <td>800</td>\n",
       "      <td>Buffet</td>\n",
       "      <td>Banashankari</td>\n",
       "    </tr>\n",
       "    <tr>\n",
       "      <th>1</th>\n",
       "      <td>Spice Elephant</td>\n",
       "      <td>Yes</td>\n",
       "      <td>No</td>\n",
       "      <td>4.1</td>\n",
       "      <td>787</td>\n",
       "      <td>Banashankari</td>\n",
       "      <td>Casual Dining</td>\n",
       "      <td>Chinese, North Indian, Thai</td>\n",
       "      <td>800</td>\n",
       "      <td>Buffet</td>\n",
       "      <td>Banashankari</td>\n",
       "    </tr>\n",
       "    <tr>\n",
       "      <th>2</th>\n",
       "      <td>San Churro Cafe</td>\n",
       "      <td>Yes</td>\n",
       "      <td>No</td>\n",
       "      <td>3.8</td>\n",
       "      <td>918</td>\n",
       "      <td>Banashankari</td>\n",
       "      <td>Cafe, Casual Dining</td>\n",
       "      <td>Cafe, Mexican, Italian</td>\n",
       "      <td>800</td>\n",
       "      <td>Buffet</td>\n",
       "      <td>Banashankari</td>\n",
       "    </tr>\n",
       "    <tr>\n",
       "      <th>3</th>\n",
       "      <td>Addhuri Udupi Bhojana</td>\n",
       "      <td>No</td>\n",
       "      <td>No</td>\n",
       "      <td>3.7</td>\n",
       "      <td>88</td>\n",
       "      <td>Banashankari</td>\n",
       "      <td>Quick Bites</td>\n",
       "      <td>South Indian, North Indian</td>\n",
       "      <td>300</td>\n",
       "      <td>Buffet</td>\n",
       "      <td>Banashankari</td>\n",
       "    </tr>\n",
       "    <tr>\n",
       "      <th>4</th>\n",
       "      <td>Grand Village</td>\n",
       "      <td>No</td>\n",
       "      <td>No</td>\n",
       "      <td>3.8</td>\n",
       "      <td>166</td>\n",
       "      <td>Basavanagudi</td>\n",
       "      <td>Casual Dining</td>\n",
       "      <td>North Indian, Rajasthani</td>\n",
       "      <td>600</td>\n",
       "      <td>Buffet</td>\n",
       "      <td>Banashankari</td>\n",
       "    </tr>\n",
       "  </tbody>\n",
       "</table>\n",
       "</div>"
      ],
      "text/plain": [
       "                    name online_order book_table  rate  votes      location  \\\n",
       "0                  Jalsa          Yes        Yes   4.1    775  Banashankari   \n",
       "1         Spice Elephant          Yes         No   4.1    787  Banashankari   \n",
       "2        San Churro Cafe          Yes         No   3.8    918  Banashankari   \n",
       "3  Addhuri Udupi Bhojana           No         No   3.7     88  Banashankari   \n",
       "4          Grand Village           No         No   3.8    166  Basavanagudi   \n",
       "\n",
       "             rest_type                        cuisines  \\\n",
       "0        Casual Dining  North Indian, Mughlai, Chinese   \n",
       "1        Casual Dining     Chinese, North Indian, Thai   \n",
       "2  Cafe, Casual Dining          Cafe, Mexican, Italian   \n",
       "3          Quick Bites      South Indian, North Indian   \n",
       "4        Casual Dining        North Indian, Rajasthani   \n",
       "\n",
       "  approx_cost(for two people) listed_in(type) listed_in(city)  \n",
       "0                         800          Buffet    Banashankari  \n",
       "1                         800          Buffet    Banashankari  \n",
       "2                         800          Buffet    Banashankari  \n",
       "3                         300          Buffet    Banashankari  \n",
       "4                         600          Buffet    Banashankari  "
      ]
     },
     "execution_count": 11,
     "metadata": {},
     "output_type": "execute_result"
    }
   ],
   "source": [
    "df.dropna(inplace = True)\n",
    "df.head()"
   ]
  },
  {
   "cell_type": "markdown",
   "id": "aa38de07",
   "metadata": {
    "papermill": {
     "duration": 0.021001,
     "end_time": "2024-04-03T21:06:43.927500",
     "exception": false,
     "start_time": "2024-04-03T21:06:43.906499",
     "status": "completed"
    },
    "tags": []
   },
   "source": [
    "Renaming Columns"
   ]
  },
  {
   "cell_type": "code",
   "execution_count": 12,
   "id": "2621153d",
   "metadata": {
    "execution": {
     "iopub.execute_input": "2024-04-03T21:06:43.972064Z",
     "iopub.status.busy": "2024-04-03T21:06:43.971627Z",
     "iopub.status.idle": "2024-04-03T21:06:43.990847Z",
     "shell.execute_reply": "2024-04-03T21:06:43.989561Z"
    },
    "papermill": {
     "duration": 0.044693,
     "end_time": "2024-04-03T21:06:43.993788",
     "exception": false,
     "start_time": "2024-04-03T21:06:43.949095",
     "status": "completed"
    },
    "tags": []
   },
   "outputs": [
    {
     "data": {
      "text/html": [
       "<div>\n",
       "<style scoped>\n",
       "    .dataframe tbody tr th:only-of-type {\n",
       "        vertical-align: middle;\n",
       "    }\n",
       "\n",
       "    .dataframe tbody tr th {\n",
       "        vertical-align: top;\n",
       "    }\n",
       "\n",
       "    .dataframe thead th {\n",
       "        text-align: right;\n",
       "    }\n",
       "</style>\n",
       "<table border=\"1\" class=\"dataframe\">\n",
       "  <thead>\n",
       "    <tr style=\"text-align: right;\">\n",
       "      <th></th>\n",
       "      <th>name</th>\n",
       "      <th>online_order</th>\n",
       "      <th>book_table</th>\n",
       "      <th>rate</th>\n",
       "      <th>votes</th>\n",
       "      <th>location</th>\n",
       "      <th>rest_type</th>\n",
       "      <th>cuisines</th>\n",
       "      <th>Cost2plates</th>\n",
       "      <th>Type</th>\n",
       "      <th>listed_in(city)</th>\n",
       "    </tr>\n",
       "  </thead>\n",
       "  <tbody>\n",
       "    <tr>\n",
       "      <th>0</th>\n",
       "      <td>Jalsa</td>\n",
       "      <td>Yes</td>\n",
       "      <td>Yes</td>\n",
       "      <td>4.1</td>\n",
       "      <td>775</td>\n",
       "      <td>Banashankari</td>\n",
       "      <td>Casual Dining</td>\n",
       "      <td>North Indian, Mughlai, Chinese</td>\n",
       "      <td>800</td>\n",
       "      <td>Buffet</td>\n",
       "      <td>Banashankari</td>\n",
       "    </tr>\n",
       "    <tr>\n",
       "      <th>1</th>\n",
       "      <td>Spice Elephant</td>\n",
       "      <td>Yes</td>\n",
       "      <td>No</td>\n",
       "      <td>4.1</td>\n",
       "      <td>787</td>\n",
       "      <td>Banashankari</td>\n",
       "      <td>Casual Dining</td>\n",
       "      <td>Chinese, North Indian, Thai</td>\n",
       "      <td>800</td>\n",
       "      <td>Buffet</td>\n",
       "      <td>Banashankari</td>\n",
       "    </tr>\n",
       "    <tr>\n",
       "      <th>2</th>\n",
       "      <td>San Churro Cafe</td>\n",
       "      <td>Yes</td>\n",
       "      <td>No</td>\n",
       "      <td>3.8</td>\n",
       "      <td>918</td>\n",
       "      <td>Banashankari</td>\n",
       "      <td>Cafe, Casual Dining</td>\n",
       "      <td>Cafe, Mexican, Italian</td>\n",
       "      <td>800</td>\n",
       "      <td>Buffet</td>\n",
       "      <td>Banashankari</td>\n",
       "    </tr>\n",
       "    <tr>\n",
       "      <th>3</th>\n",
       "      <td>Addhuri Udupi Bhojana</td>\n",
       "      <td>No</td>\n",
       "      <td>No</td>\n",
       "      <td>3.7</td>\n",
       "      <td>88</td>\n",
       "      <td>Banashankari</td>\n",
       "      <td>Quick Bites</td>\n",
       "      <td>South Indian, North Indian</td>\n",
       "      <td>300</td>\n",
       "      <td>Buffet</td>\n",
       "      <td>Banashankari</td>\n",
       "    </tr>\n",
       "    <tr>\n",
       "      <th>4</th>\n",
       "      <td>Grand Village</td>\n",
       "      <td>No</td>\n",
       "      <td>No</td>\n",
       "      <td>3.8</td>\n",
       "      <td>166</td>\n",
       "      <td>Basavanagudi</td>\n",
       "      <td>Casual Dining</td>\n",
       "      <td>North Indian, Rajasthani</td>\n",
       "      <td>600</td>\n",
       "      <td>Buffet</td>\n",
       "      <td>Banashankari</td>\n",
       "    </tr>\n",
       "  </tbody>\n",
       "</table>\n",
       "</div>"
      ],
      "text/plain": [
       "                    name online_order book_table  rate  votes      location  \\\n",
       "0                  Jalsa          Yes        Yes   4.1    775  Banashankari   \n",
       "1         Spice Elephant          Yes         No   4.1    787  Banashankari   \n",
       "2        San Churro Cafe          Yes         No   3.8    918  Banashankari   \n",
       "3  Addhuri Udupi Bhojana           No         No   3.7     88  Banashankari   \n",
       "4          Grand Village           No         No   3.8    166  Basavanagudi   \n",
       "\n",
       "             rest_type                        cuisines Cost2plates    Type  \\\n",
       "0        Casual Dining  North Indian, Mughlai, Chinese         800  Buffet   \n",
       "1        Casual Dining     Chinese, North Indian, Thai         800  Buffet   \n",
       "2  Cafe, Casual Dining          Cafe, Mexican, Italian         800  Buffet   \n",
       "3          Quick Bites      South Indian, North Indian         300  Buffet   \n",
       "4        Casual Dining        North Indian, Rajasthani         600  Buffet   \n",
       "\n",
       "  listed_in(city)  \n",
       "0    Banashankari  \n",
       "1    Banashankari  \n",
       "2    Banashankari  \n",
       "3    Banashankari  \n",
       "4    Banashankari  "
      ]
     },
     "execution_count": 12,
     "metadata": {},
     "output_type": "execute_result"
    }
   ],
   "source": [
    "df.rename(columns = {'approx_cost(for two people)':'Cost2plates', 'listed_in(type)':'Type'}, inplace = True)\n",
    "df.head()"
   ]
  },
  {
   "cell_type": "code",
   "execution_count": 13,
   "id": "8aac9dc9",
   "metadata": {
    "execution": {
     "iopub.execute_input": "2024-04-03T21:06:44.040824Z",
     "iopub.status.busy": "2024-04-03T21:06:44.040415Z",
     "iopub.status.idle": "2024-04-03T21:06:44.052005Z",
     "shell.execute_reply": "2024-04-03T21:06:44.050899Z"
    },
    "papermill": {
     "duration": 0.039124,
     "end_time": "2024-04-03T21:06:44.055033",
     "exception": false,
     "start_time": "2024-04-03T21:06:44.015909",
     "status": "completed"
    },
    "tags": []
   },
   "outputs": [
    {
     "data": {
      "text/plain": [
       "array(['Banashankari', 'Basavanagudi', 'Mysore Road', 'Jayanagar',\n",
       "       'Kumaraswamy Layout', 'Rajarajeshwari Nagar', 'Vijay Nagar',\n",
       "       'Uttarahalli', 'JP Nagar', 'South Bangalore', 'City Market',\n",
       "       'Bannerghatta Road', 'BTM', 'Kanakapura Road', 'Bommanahalli',\n",
       "       'Electronic City', 'Wilson Garden', 'Shanti Nagar',\n",
       "       'Koramangala 5th Block', 'Richmond Road', 'HSR',\n",
       "       'Koramangala 7th Block', 'Bellandur', 'Sarjapur Road',\n",
       "       'Marathahalli', 'Whitefield', 'East Bangalore', 'Old Airport Road',\n",
       "       'Indiranagar', 'Koramangala 1st Block', 'Frazer Town', 'MG Road',\n",
       "       'Brigade Road', 'Lavelle Road', 'Church Street', 'Ulsoor',\n",
       "       'Residency Road', 'Shivajinagar', 'Infantry Road',\n",
       "       'St. Marks Road', 'Cunningham Road', 'Race Course Road',\n",
       "       'Commercial Street', 'Vasanth Nagar', 'Domlur',\n",
       "       'Koramangala 8th Block', 'Ejipura', 'Jeevan Bhima Nagar',\n",
       "       'Old Madras Road', 'Seshadripuram', 'Kammanahalli',\n",
       "       'Koramangala 6th Block', 'Majestic', 'Langford Town',\n",
       "       'Central Bangalore', 'Brookefield', 'ITPL Main Road, Whitefield',\n",
       "       'Varthur Main Road, Whitefield', 'Koramangala 2nd Block',\n",
       "       'Koramangala 3rd Block', 'Koramangala 4th Block', 'Koramangala',\n",
       "       'Hosur Road', 'RT Nagar', 'Banaswadi', 'North Bangalore',\n",
       "       'Nagawara', 'Hennur', 'Kalyan Nagar', 'HBR Layout',\n",
       "       'Rammurthy Nagar', 'Thippasandra', 'CV Raman Nagar',\n",
       "       'Kaggadasapura', 'Kengeri', 'Sankey Road', 'Malleshwaram',\n",
       "       'Sanjay Nagar', 'Sadashiv Nagar', 'Basaveshwara Nagar',\n",
       "       'Rajajinagar', 'Yeshwantpur', 'New BEL Road', 'West Bangalore',\n",
       "       'Magadi Road', 'Yelahanka', 'Sahakara Nagar', 'Jalahalli',\n",
       "       'Hebbal', 'Nagarbhavi', 'Peenya', 'KR Puram'], dtype=object)"
      ]
     },
     "execution_count": 13,
     "metadata": {},
     "output_type": "execute_result"
    }
   ],
   "source": [
    "df['location'].unique()"
   ]
  },
  {
   "cell_type": "code",
   "execution_count": 14,
   "id": "b0ec6442",
   "metadata": {
    "execution": {
     "iopub.execute_input": "2024-04-03T21:06:44.102057Z",
     "iopub.status.busy": "2024-04-03T21:06:44.101673Z",
     "iopub.status.idle": "2024-04-03T21:06:44.113419Z",
     "shell.execute_reply": "2024-04-03T21:06:44.112289Z"
    },
    "papermill": {
     "duration": 0.037702,
     "end_time": "2024-04-03T21:06:44.115895",
     "exception": false,
     "start_time": "2024-04-03T21:06:44.078193",
     "status": "completed"
    },
    "tags": []
   },
   "outputs": [
    {
     "data": {
      "text/plain": [
       "array(['Banashankari', 'Bannerghatta Road', 'Basavanagudi', 'Bellandur',\n",
       "       'Brigade Road', 'Brookefield', 'BTM', 'Church Street',\n",
       "       'Electronic City', 'Frazer Town', 'HSR', 'Indiranagar',\n",
       "       'Jayanagar', 'JP Nagar', 'Kalyan Nagar', 'Kammanahalli',\n",
       "       'Koramangala 4th Block', 'Koramangala 5th Block',\n",
       "       'Koramangala 6th Block', 'Koramangala 7th Block', 'Lavelle Road',\n",
       "       'Malleshwaram', 'Marathahalli', 'MG Road', 'New BEL Road',\n",
       "       'Old Airport Road', 'Rajajinagar', 'Residency Road',\n",
       "       'Sarjapur Road', 'Whitefield'], dtype=object)"
      ]
     },
     "execution_count": 14,
     "metadata": {},
     "output_type": "execute_result"
    }
   ],
   "source": [
    "df['listed_in(city)'].unique()"
   ]
  },
  {
   "cell_type": "code",
   "execution_count": 15,
   "id": "47593be6",
   "metadata": {
    "execution": {
     "iopub.execute_input": "2024-04-03T21:06:44.162439Z",
     "iopub.status.busy": "2024-04-03T21:06:44.161792Z",
     "iopub.status.idle": "2024-04-03T21:06:44.171177Z",
     "shell.execute_reply": "2024-04-03T21:06:44.170257Z"
    },
    "papermill": {
     "duration": 0.035088,
     "end_time": "2024-04-03T21:06:44.173530",
     "exception": false,
     "start_time": "2024-04-03T21:06:44.138442",
     "status": "completed"
    },
    "tags": []
   },
   "outputs": [],
   "source": [
    "df = df.drop(['listed_in(city)'], axis = 1 )"
   ]
  },
  {
   "cell_type": "code",
   "execution_count": 16,
   "id": "95386373",
   "metadata": {
    "execution": {
     "iopub.execute_input": "2024-04-03T21:06:44.281481Z",
     "iopub.status.busy": "2024-04-03T21:06:44.281056Z",
     "iopub.status.idle": "2024-04-03T21:06:44.299298Z",
     "shell.execute_reply": "2024-04-03T21:06:44.298072Z"
    },
    "papermill": {
     "duration": 0.043593,
     "end_time": "2024-04-03T21:06:44.301598",
     "exception": false,
     "start_time": "2024-04-03T21:06:44.258005",
     "status": "completed"
    },
    "tags": []
   },
   "outputs": [
    {
     "data": {
      "text/html": [
       "<div>\n",
       "<style scoped>\n",
       "    .dataframe tbody tr th:only-of-type {\n",
       "        vertical-align: middle;\n",
       "    }\n",
       "\n",
       "    .dataframe tbody tr th {\n",
       "        vertical-align: top;\n",
       "    }\n",
       "\n",
       "    .dataframe thead th {\n",
       "        text-align: right;\n",
       "    }\n",
       "</style>\n",
       "<table border=\"1\" class=\"dataframe\">\n",
       "  <thead>\n",
       "    <tr style=\"text-align: right;\">\n",
       "      <th></th>\n",
       "      <th>name</th>\n",
       "      <th>online_order</th>\n",
       "      <th>book_table</th>\n",
       "      <th>rate</th>\n",
       "      <th>votes</th>\n",
       "      <th>location</th>\n",
       "      <th>rest_type</th>\n",
       "      <th>cuisines</th>\n",
       "      <th>Cost2plates</th>\n",
       "      <th>Type</th>\n",
       "    </tr>\n",
       "  </thead>\n",
       "  <tbody>\n",
       "    <tr>\n",
       "      <th>0</th>\n",
       "      <td>Jalsa</td>\n",
       "      <td>Yes</td>\n",
       "      <td>Yes</td>\n",
       "      <td>4.1</td>\n",
       "      <td>775</td>\n",
       "      <td>Banashankari</td>\n",
       "      <td>Casual Dining</td>\n",
       "      <td>North Indian, Mughlai, Chinese</td>\n",
       "      <td>800</td>\n",
       "      <td>Buffet</td>\n",
       "    </tr>\n",
       "    <tr>\n",
       "      <th>1</th>\n",
       "      <td>Spice Elephant</td>\n",
       "      <td>Yes</td>\n",
       "      <td>No</td>\n",
       "      <td>4.1</td>\n",
       "      <td>787</td>\n",
       "      <td>Banashankari</td>\n",
       "      <td>Casual Dining</td>\n",
       "      <td>Chinese, North Indian, Thai</td>\n",
       "      <td>800</td>\n",
       "      <td>Buffet</td>\n",
       "    </tr>\n",
       "    <tr>\n",
       "      <th>2</th>\n",
       "      <td>San Churro Cafe</td>\n",
       "      <td>Yes</td>\n",
       "      <td>No</td>\n",
       "      <td>3.8</td>\n",
       "      <td>918</td>\n",
       "      <td>Banashankari</td>\n",
       "      <td>Cafe, Casual Dining</td>\n",
       "      <td>Cafe, Mexican, Italian</td>\n",
       "      <td>800</td>\n",
       "      <td>Buffet</td>\n",
       "    </tr>\n",
       "    <tr>\n",
       "      <th>3</th>\n",
       "      <td>Addhuri Udupi Bhojana</td>\n",
       "      <td>No</td>\n",
       "      <td>No</td>\n",
       "      <td>3.7</td>\n",
       "      <td>88</td>\n",
       "      <td>Banashankari</td>\n",
       "      <td>Quick Bites</td>\n",
       "      <td>South Indian, North Indian</td>\n",
       "      <td>300</td>\n",
       "      <td>Buffet</td>\n",
       "    </tr>\n",
       "    <tr>\n",
       "      <th>4</th>\n",
       "      <td>Grand Village</td>\n",
       "      <td>No</td>\n",
       "      <td>No</td>\n",
       "      <td>3.8</td>\n",
       "      <td>166</td>\n",
       "      <td>Basavanagudi</td>\n",
       "      <td>Casual Dining</td>\n",
       "      <td>North Indian, Rajasthani</td>\n",
       "      <td>600</td>\n",
       "      <td>Buffet</td>\n",
       "    </tr>\n",
       "  </tbody>\n",
       "</table>\n",
       "</div>"
      ],
      "text/plain": [
       "                    name online_order book_table  rate  votes      location  \\\n",
       "0                  Jalsa          Yes        Yes   4.1    775  Banashankari   \n",
       "1         Spice Elephant          Yes         No   4.1    787  Banashankari   \n",
       "2        San Churro Cafe          Yes         No   3.8    918  Banashankari   \n",
       "3  Addhuri Udupi Bhojana           No         No   3.7     88  Banashankari   \n",
       "4          Grand Village           No         No   3.8    166  Basavanagudi   \n",
       "\n",
       "             rest_type                        cuisines Cost2plates    Type  \n",
       "0        Casual Dining  North Indian, Mughlai, Chinese         800  Buffet  \n",
       "1        Casual Dining     Chinese, North Indian, Thai         800  Buffet  \n",
       "2  Cafe, Casual Dining          Cafe, Mexican, Italian         800  Buffet  \n",
       "3          Quick Bites      South Indian, North Indian         300  Buffet  \n",
       "4        Casual Dining        North Indian, Rajasthani         600  Buffet  "
      ]
     },
     "execution_count": 16,
     "metadata": {},
     "output_type": "execute_result"
    }
   ],
   "source": [
    "df.head()"
   ]
  },
  {
   "cell_type": "code",
   "execution_count": 17,
   "id": "7f16a07c",
   "metadata": {
    "execution": {
     "iopub.execute_input": "2024-04-03T21:06:44.348296Z",
     "iopub.status.busy": "2024-04-03T21:06:44.347643Z",
     "iopub.status.idle": "2024-04-03T21:06:44.358673Z",
     "shell.execute_reply": "2024-04-03T21:06:44.357555Z"
    },
    "papermill": {
     "duration": 0.037216,
     "end_time": "2024-04-03T21:06:44.361175",
     "exception": false,
     "start_time": "2024-04-03T21:06:44.323959",
     "status": "completed"
    },
    "tags": []
   },
   "outputs": [
    {
     "data": {
      "text/plain": [
       "array(['800', '300', '600', '700', '550', '500', '450', '650', '400',\n",
       "       '900', '200', '750', '150', '850', '100', '1,200', '350', '250',\n",
       "       '950', '1,000', '1,500', '1,300', '199', '1,100', '1,600', '230',\n",
       "       '130', '1,700', '1,350', '2,200', '1,400', '2,000', '1,800',\n",
       "       '1,900', '180', '330', '2,500', '2,100', '3,000', '2,800', '3,400',\n",
       "       '50', '40', '1,250', '3,500', '4,000', '2,400', '2,600', '1,450',\n",
       "       '70', '3,200', '240', '6,000', '1,050', '2,300', '4,100', '120',\n",
       "       '5,000', '3,700', '1,650', '2,700', '4,500', '80'], dtype=object)"
      ]
     },
     "execution_count": 17,
     "metadata": {},
     "output_type": "execute_result"
    }
   ],
   "source": [
    "df['Cost2plates'].unique()"
   ]
  },
  {
   "cell_type": "markdown",
   "id": "7c00f09e",
   "metadata": {
    "papermill": {
     "duration": 0.022836,
     "end_time": "2024-04-03T21:06:44.406756",
     "exception": false,
     "start_time": "2024-04-03T21:06:44.383920",
     "status": "completed"
    },
    "tags": []
   },
   "source": [
    "Removing commas from value"
   ]
  },
  {
   "cell_type": "code",
   "execution_count": 18,
   "id": "da9a397c",
   "metadata": {
    "execution": {
     "iopub.execute_input": "2024-04-03T21:06:44.454514Z",
     "iopub.status.busy": "2024-04-03T21:06:44.453218Z",
     "iopub.status.idle": "2024-04-03T21:06:44.497702Z",
     "shell.execute_reply": "2024-04-03T21:06:44.496753Z"
    },
    "papermill": {
     "duration": 0.070586,
     "end_time": "2024-04-03T21:06:44.499954",
     "exception": false,
     "start_time": "2024-04-03T21:06:44.429368",
     "status": "completed"
    },
    "tags": []
   },
   "outputs": [
    {
     "data": {
      "text/plain": [
       "array([ 800.,  300.,  600.,  700.,  550.,  500.,  450.,  650.,  400.,\n",
       "        900.,  200.,  750.,  150.,  850.,  100., 1200.,  350.,  250.,\n",
       "        950., 1000., 1500., 1300.,  199., 1100., 1600.,  230.,  130.,\n",
       "       1700., 1350., 2200., 1400., 2000., 1800., 1900.,  180.,  330.,\n",
       "       2500., 2100., 3000., 2800., 3400.,   50.,   40., 1250., 3500.,\n",
       "       4000., 2400., 2600., 1450.,   70., 3200.,  240., 6000., 1050.,\n",
       "       2300., 4100.,  120., 5000., 3700., 1650., 2700., 4500.,   80.])"
      ]
     },
     "execution_count": 18,
     "metadata": {},
     "output_type": "execute_result"
    }
   ],
   "source": [
    "def handlecomma(value):\n",
    "    value = str(value)\n",
    "    if ',' in value:\n",
    "        value = value.replace(',', '')\n",
    "        return float(value)\n",
    "    else:\n",
    "        return float(value)\n",
    "df['Cost2plates'] = df['Cost2plates'].apply(handlecomma)\n",
    "df['Cost2plates'].unique()\n",
    "        "
   ]
  },
  {
   "cell_type": "code",
   "execution_count": 19,
   "id": "61450d6e",
   "metadata": {
    "execution": {
     "iopub.execute_input": "2024-04-03T21:06:44.548368Z",
     "iopub.status.busy": "2024-04-03T21:06:44.547952Z",
     "iopub.status.idle": "2024-04-03T21:06:44.561234Z",
     "shell.execute_reply": "2024-04-03T21:06:44.560130Z"
    },
    "papermill": {
     "duration": 0.040899,
     "end_time": "2024-04-03T21:06:44.563816",
     "exception": false,
     "start_time": "2024-04-03T21:06:44.522917",
     "status": "completed"
    },
    "tags": []
   },
   "outputs": [
    {
     "data": {
      "text/plain": [
       "<bound method NDFrame.head of                                                     name online_order  \\\n",
       "0                                                  Jalsa          Yes   \n",
       "1                                         Spice Elephant          Yes   \n",
       "2                                        San Churro Cafe          Yes   \n",
       "3                                  Addhuri Udupi Bhojana           No   \n",
       "4                                          Grand Village           No   \n",
       "...                                                  ...          ...   \n",
       "51709                         The Farm House Bar n Grill           No   \n",
       "51711                                            Bhagini           No   \n",
       "51712  Best Brews - Four Points by Sheraton Bengaluru...           No   \n",
       "51715  Chime - Sheraton Grand Bengaluru Whitefield Ho...           No   \n",
       "51716                       The Nest - The Den Bengaluru           No   \n",
       "\n",
       "      book_table  rate  votes                    location  \\\n",
       "0            Yes   4.1    775                Banashankari   \n",
       "1             No   4.1    787                Banashankari   \n",
       "2             No   3.8    918                Banashankari   \n",
       "3             No   3.7     88                Banashankari   \n",
       "4             No   3.8    166                Basavanagudi   \n",
       "...          ...   ...    ...                         ...   \n",
       "51709         No   3.7     34                  Whitefield   \n",
       "51711         No   2.5     81                  Whitefield   \n",
       "51712         No   3.6     27                  Whitefield   \n",
       "51715        Yes   4.3    236  ITPL Main Road, Whitefield   \n",
       "51716         No   3.4     13  ITPL Main Road, Whitefield   \n",
       "\n",
       "                 rest_type                                     cuisines  \\\n",
       "0            Casual Dining               North Indian, Mughlai, Chinese   \n",
       "1            Casual Dining                  Chinese, North Indian, Thai   \n",
       "2      Cafe, Casual Dining                       Cafe, Mexican, Italian   \n",
       "3              Quick Bites                   South Indian, North Indian   \n",
       "4            Casual Dining                     North Indian, Rajasthani   \n",
       "...                    ...                                          ...   \n",
       "51709   Casual Dining, Bar                    North Indian, Continental   \n",
       "51711   Casual Dining, Bar  Andhra, South Indian, Chinese, North Indian   \n",
       "51712                  Bar                                  Continental   \n",
       "51715                  Bar                                  Finger Food   \n",
       "51716   Bar, Casual Dining       Finger Food, North Indian, Continental   \n",
       "\n",
       "       Cost2plates           Type  \n",
       "0            800.0         Buffet  \n",
       "1            800.0         Buffet  \n",
       "2            800.0         Buffet  \n",
       "3            300.0         Buffet  \n",
       "4            600.0         Buffet  \n",
       "...            ...            ...  \n",
       "51709        800.0  Pubs and bars  \n",
       "51711        800.0  Pubs and bars  \n",
       "51712       1500.0  Pubs and bars  \n",
       "51715       2500.0  Pubs and bars  \n",
       "51716       1500.0  Pubs and bars  \n",
       "\n",
       "[41190 rows x 10 columns]>"
      ]
     },
     "execution_count": 19,
     "metadata": {},
     "output_type": "execute_result"
    }
   ],
   "source": [
    "df.head"
   ]
  },
  {
   "cell_type": "code",
   "execution_count": 20,
   "id": "d8c5d8a4",
   "metadata": {
    "execution": {
     "iopub.execute_input": "2024-04-03T21:06:44.612533Z",
     "iopub.status.busy": "2024-04-03T21:06:44.612132Z",
     "iopub.status.idle": "2024-04-03T21:06:44.627476Z",
     "shell.execute_reply": "2024-04-03T21:06:44.626676Z"
    },
    "papermill": {
     "duration": 0.042323,
     "end_time": "2024-04-03T21:06:44.629641",
     "exception": false,
     "start_time": "2024-04-03T21:06:44.587318",
     "status": "completed"
    },
    "tags": []
   },
   "outputs": [
    {
     "data": {
      "text/plain": [
       "rest_type\n",
       "Quick Bites                   13861\n",
       "Casual Dining                  9597\n",
       "Cafe                           3365\n",
       "Dessert Parlor                 1848\n",
       "Delivery                       1666\n",
       "                              ...  \n",
       "Food Court, Beverage Shop         2\n",
       "Dessert Parlor, Food Court        2\n",
       "Dessert Parlor, Kiosk             2\n",
       "Bakery, Beverage Shop             1\n",
       "Quick Bites, Kiosk                1\n",
       "Name: count, Length: 87, dtype: int64"
      ]
     },
     "execution_count": 20,
     "metadata": {},
     "output_type": "execute_result"
    }
   ],
   "source": [
    "df['rest_type'].value_counts()"
   ]
  },
  {
   "cell_type": "markdown",
   "id": "8da65863",
   "metadata": {
    "papermill": {
     "duration": 0.02283,
     "end_time": "2024-04-03T21:06:44.675399",
     "exception": false,
     "start_time": "2024-04-03T21:06:44.652569",
     "status": "completed"
    },
    "tags": []
   },
   "source": [
    "Cleaning Rest Type Column"
   ]
  },
  {
   "cell_type": "code",
   "execution_count": 21,
   "id": "ac345fc3",
   "metadata": {
    "execution": {
     "iopub.execute_input": "2024-04-03T21:06:44.724571Z",
     "iopub.status.busy": "2024-04-03T21:06:44.723596Z",
     "iopub.status.idle": "2024-04-03T21:06:44.735371Z",
     "shell.execute_reply": "2024-04-03T21:06:44.734496Z"
    },
    "papermill": {
     "duration": 0.038647,
     "end_time": "2024-04-03T21:06:44.737890",
     "exception": false,
     "start_time": "2024-04-03T21:06:44.699243",
     "status": "completed"
    },
    "tags": []
   },
   "outputs": [],
   "source": [
    "rest_types = df['rest_type'].value_counts(ascending = False)"
   ]
  },
  {
   "cell_type": "code",
   "execution_count": 22,
   "id": "2964ac67",
   "metadata": {
    "execution": {
     "iopub.execute_input": "2024-04-03T21:06:44.786332Z",
     "iopub.status.busy": "2024-04-03T21:06:44.785725Z",
     "iopub.status.idle": "2024-04-03T21:06:44.801881Z",
     "shell.execute_reply": "2024-04-03T21:06:44.800729Z"
    },
    "papermill": {
     "duration": 0.043682,
     "end_time": "2024-04-03T21:06:44.804470",
     "exception": false,
     "start_time": "2024-04-03T21:06:44.760788",
     "status": "completed"
    },
    "tags": []
   },
   "outputs": [
    {
     "data": {
      "text/html": [
       "<div>\n",
       "<style scoped>\n",
       "    .dataframe tbody tr th:only-of-type {\n",
       "        vertical-align: middle;\n",
       "    }\n",
       "\n",
       "    .dataframe tbody tr th {\n",
       "        vertical-align: top;\n",
       "    }\n",
       "\n",
       "    .dataframe thead th {\n",
       "        text-align: right;\n",
       "    }\n",
       "</style>\n",
       "<table border=\"1\" class=\"dataframe\">\n",
       "  <thead>\n",
       "    <tr style=\"text-align: right;\">\n",
       "      <th></th>\n",
       "      <th>name</th>\n",
       "      <th>online_order</th>\n",
       "      <th>book_table</th>\n",
       "      <th>rate</th>\n",
       "      <th>votes</th>\n",
       "      <th>location</th>\n",
       "      <th>rest_type</th>\n",
       "      <th>cuisines</th>\n",
       "      <th>Cost2plates</th>\n",
       "      <th>Type</th>\n",
       "    </tr>\n",
       "  </thead>\n",
       "  <tbody>\n",
       "    <tr>\n",
       "      <th>0</th>\n",
       "      <td>Jalsa</td>\n",
       "      <td>Yes</td>\n",
       "      <td>Yes</td>\n",
       "      <td>4.1</td>\n",
       "      <td>775</td>\n",
       "      <td>Banashankari</td>\n",
       "      <td>Casual Dining</td>\n",
       "      <td>North Indian, Mughlai, Chinese</td>\n",
       "      <td>800.0</td>\n",
       "      <td>Buffet</td>\n",
       "    </tr>\n",
       "    <tr>\n",
       "      <th>1</th>\n",
       "      <td>Spice Elephant</td>\n",
       "      <td>Yes</td>\n",
       "      <td>No</td>\n",
       "      <td>4.1</td>\n",
       "      <td>787</td>\n",
       "      <td>Banashankari</td>\n",
       "      <td>Casual Dining</td>\n",
       "      <td>Chinese, North Indian, Thai</td>\n",
       "      <td>800.0</td>\n",
       "      <td>Buffet</td>\n",
       "    </tr>\n",
       "    <tr>\n",
       "      <th>2</th>\n",
       "      <td>San Churro Cafe</td>\n",
       "      <td>Yes</td>\n",
       "      <td>No</td>\n",
       "      <td>3.8</td>\n",
       "      <td>918</td>\n",
       "      <td>Banashankari</td>\n",
       "      <td>Cafe, Casual Dining</td>\n",
       "      <td>Cafe, Mexican, Italian</td>\n",
       "      <td>800.0</td>\n",
       "      <td>Buffet</td>\n",
       "    </tr>\n",
       "    <tr>\n",
       "      <th>3</th>\n",
       "      <td>Addhuri Udupi Bhojana</td>\n",
       "      <td>No</td>\n",
       "      <td>No</td>\n",
       "      <td>3.7</td>\n",
       "      <td>88</td>\n",
       "      <td>Banashankari</td>\n",
       "      <td>Quick Bites</td>\n",
       "      <td>South Indian, North Indian</td>\n",
       "      <td>300.0</td>\n",
       "      <td>Buffet</td>\n",
       "    </tr>\n",
       "    <tr>\n",
       "      <th>4</th>\n",
       "      <td>Grand Village</td>\n",
       "      <td>No</td>\n",
       "      <td>No</td>\n",
       "      <td>3.8</td>\n",
       "      <td>166</td>\n",
       "      <td>Basavanagudi</td>\n",
       "      <td>Casual Dining</td>\n",
       "      <td>North Indian, Rajasthani</td>\n",
       "      <td>600.0</td>\n",
       "      <td>Buffet</td>\n",
       "    </tr>\n",
       "  </tbody>\n",
       "</table>\n",
       "</div>"
      ],
      "text/plain": [
       "                    name online_order book_table  rate  votes      location  \\\n",
       "0                  Jalsa          Yes        Yes   4.1    775  Banashankari   \n",
       "1         Spice Elephant          Yes         No   4.1    787  Banashankari   \n",
       "2        San Churro Cafe          Yes         No   3.8    918  Banashankari   \n",
       "3  Addhuri Udupi Bhojana           No         No   3.7     88  Banashankari   \n",
       "4          Grand Village           No         No   3.8    166  Basavanagudi   \n",
       "\n",
       "             rest_type                        cuisines  Cost2plates    Type  \n",
       "0        Casual Dining  North Indian, Mughlai, Chinese        800.0  Buffet  \n",
       "1        Casual Dining     Chinese, North Indian, Thai        800.0  Buffet  \n",
       "2  Cafe, Casual Dining          Cafe, Mexican, Italian        800.0  Buffet  \n",
       "3          Quick Bites      South Indian, North Indian        300.0  Buffet  \n",
       "4        Casual Dining        North Indian, Rajasthani        600.0  Buffet  "
      ]
     },
     "execution_count": 22,
     "metadata": {},
     "output_type": "execute_result"
    }
   ],
   "source": [
    "df.head()"
   ]
  },
  {
   "cell_type": "markdown",
   "id": "fa8d763e",
   "metadata": {
    "papermill": {
     "duration": 0.022991,
     "end_time": "2024-04-03T21:06:44.850868",
     "exception": false,
     "start_time": "2024-04-03T21:06:44.827877",
     "status": "completed"
    },
    "tags": []
   },
   "source": [
    "Checking Location Column\n"
   ]
  },
  {
   "cell_type": "code",
   "execution_count": 23,
   "id": "510c0f58",
   "metadata": {
    "execution": {
     "iopub.execute_input": "2024-04-03T21:06:44.899806Z",
     "iopub.status.busy": "2024-04-03T21:06:44.899144Z",
     "iopub.status.idle": "2024-04-03T21:06:44.903948Z",
     "shell.execute_reply": "2024-04-03T21:06:44.903182Z"
    },
    "papermill": {
     "duration": 0.032012,
     "end_time": "2024-04-03T21:06:44.906098",
     "exception": false,
     "start_time": "2024-04-03T21:06:44.874086",
     "status": "completed"
    },
    "tags": []
   },
   "outputs": [],
   "source": [
    "location = df['location'].value_counts"
   ]
  },
  {
   "cell_type": "code",
   "execution_count": 24,
   "id": "2e567a9f",
   "metadata": {
    "execution": {
     "iopub.execute_input": "2024-04-03T21:06:44.954770Z",
     "iopub.status.busy": "2024-04-03T21:06:44.954111Z",
     "iopub.status.idle": "2024-04-03T21:06:45.113264Z",
     "shell.execute_reply": "2024-04-03T21:06:45.111920Z"
    },
    "papermill": {
     "duration": 0.186584,
     "end_time": "2024-04-03T21:06:45.115963",
     "exception": false,
     "start_time": "2024-04-03T21:06:44.929379",
     "status": "completed"
    },
    "tags": []
   },
   "outputs": [
    {
     "data": {
      "text/plain": [
       "location\n",
       "others                   4667\n",
       "BTM                      3873\n",
       "Koramangala 5th Block    2295\n",
       "HSR                      1992\n",
       "Indiranagar              1795\n",
       "JP Nagar                 1710\n",
       "Jayanagar                1634\n",
       "Whitefield               1568\n",
       "Marathahalli             1407\n",
       "Bannerghatta Road        1224\n",
       "Koramangala 7th Block    1053\n",
       "Koramangala 6th Block    1052\n",
       "Brigade Road             1048\n",
       "Bellandur                 996\n",
       "Sarjapur Road             852\n",
       "Koramangala 1st Block     851\n",
       "Ulsoor                    843\n",
       "Koramangala 4th Block     841\n",
       "Electronic City           832\n",
       "MG Road                   792\n",
       "Banashankari              744\n",
       "Kalyan Nagar              692\n",
       "Malleshwaram              641\n",
       "Richmond Road             603\n",
       "Residency Road            601\n",
       "Basavanagudi              595\n",
       "Frazer Town               563\n",
       "Church Street             543\n",
       "Brookefield               543\n",
       "New BEL Road              506\n",
       "Kammanahalli              492\n",
       "Lavelle Road              476\n",
       "Cunningham Road           474\n",
       "Banaswadi                 463\n",
       "Rajajinagar               461\n",
       "Domlur                    406\n",
       "Shanti Nagar              366\n",
       "Old Airport Road          353\n",
       "St. Marks Road            343\n",
       "Name: count, dtype: int64"
      ]
     },
     "execution_count": 24,
     "metadata": {},
     "output_type": "execute_result"
    }
   ],
   "source": [
    "location = df['location'].value_counts(ascending=False)\n",
    "location_lessthan300 = location[location < 300]\n",
    "\n",
    "def handle_location(value):\n",
    "    if value in location_lessthan300:\n",
    "        return 'others'\n",
    "    else:\n",
    "        return value\n",
    "\n",
    "df['location'] = df['location'].apply(handle_location)\n",
    "df['location'].value_counts()\n"
   ]
  },
  {
   "cell_type": "code",
   "execution_count": 25,
   "id": "3e169f33",
   "metadata": {
    "execution": {
     "iopub.execute_input": "2024-04-03T21:06:45.165827Z",
     "iopub.status.busy": "2024-04-03T21:06:45.165429Z",
     "iopub.status.idle": "2024-04-03T21:06:45.185606Z",
     "shell.execute_reply": "2024-04-03T21:06:45.184407Z"
    },
    "papermill": {
     "duration": 0.048107,
     "end_time": "2024-04-03T21:06:45.187963",
     "exception": false,
     "start_time": "2024-04-03T21:06:45.139856",
     "status": "completed"
    },
    "tags": []
   },
   "outputs": [
    {
     "data": {
      "text/html": [
       "<div>\n",
       "<style scoped>\n",
       "    .dataframe tbody tr th:only-of-type {\n",
       "        vertical-align: middle;\n",
       "    }\n",
       "\n",
       "    .dataframe tbody tr th {\n",
       "        vertical-align: top;\n",
       "    }\n",
       "\n",
       "    .dataframe thead th {\n",
       "        text-align: right;\n",
       "    }\n",
       "</style>\n",
       "<table border=\"1\" class=\"dataframe\">\n",
       "  <thead>\n",
       "    <tr style=\"text-align: right;\">\n",
       "      <th></th>\n",
       "      <th>name</th>\n",
       "      <th>online_order</th>\n",
       "      <th>book_table</th>\n",
       "      <th>rate</th>\n",
       "      <th>votes</th>\n",
       "      <th>location</th>\n",
       "      <th>rest_type</th>\n",
       "      <th>cuisines</th>\n",
       "      <th>Cost2plates</th>\n",
       "      <th>Type</th>\n",
       "    </tr>\n",
       "  </thead>\n",
       "  <tbody>\n",
       "    <tr>\n",
       "      <th>0</th>\n",
       "      <td>Jalsa</td>\n",
       "      <td>Yes</td>\n",
       "      <td>Yes</td>\n",
       "      <td>4.1</td>\n",
       "      <td>775</td>\n",
       "      <td>Banashankari</td>\n",
       "      <td>Casual Dining</td>\n",
       "      <td>North Indian, Mughlai, Chinese</td>\n",
       "      <td>800.0</td>\n",
       "      <td>Buffet</td>\n",
       "    </tr>\n",
       "    <tr>\n",
       "      <th>1</th>\n",
       "      <td>Spice Elephant</td>\n",
       "      <td>Yes</td>\n",
       "      <td>No</td>\n",
       "      <td>4.1</td>\n",
       "      <td>787</td>\n",
       "      <td>Banashankari</td>\n",
       "      <td>Casual Dining</td>\n",
       "      <td>Chinese, North Indian, Thai</td>\n",
       "      <td>800.0</td>\n",
       "      <td>Buffet</td>\n",
       "    </tr>\n",
       "    <tr>\n",
       "      <th>2</th>\n",
       "      <td>San Churro Cafe</td>\n",
       "      <td>Yes</td>\n",
       "      <td>No</td>\n",
       "      <td>3.8</td>\n",
       "      <td>918</td>\n",
       "      <td>Banashankari</td>\n",
       "      <td>Cafe, Casual Dining</td>\n",
       "      <td>Cafe, Mexican, Italian</td>\n",
       "      <td>800.0</td>\n",
       "      <td>Buffet</td>\n",
       "    </tr>\n",
       "    <tr>\n",
       "      <th>3</th>\n",
       "      <td>Addhuri Udupi Bhojana</td>\n",
       "      <td>No</td>\n",
       "      <td>No</td>\n",
       "      <td>3.7</td>\n",
       "      <td>88</td>\n",
       "      <td>Banashankari</td>\n",
       "      <td>Quick Bites</td>\n",
       "      <td>South Indian, North Indian</td>\n",
       "      <td>300.0</td>\n",
       "      <td>Buffet</td>\n",
       "    </tr>\n",
       "    <tr>\n",
       "      <th>4</th>\n",
       "      <td>Grand Village</td>\n",
       "      <td>No</td>\n",
       "      <td>No</td>\n",
       "      <td>3.8</td>\n",
       "      <td>166</td>\n",
       "      <td>Basavanagudi</td>\n",
       "      <td>Casual Dining</td>\n",
       "      <td>North Indian, Rajasthani</td>\n",
       "      <td>600.0</td>\n",
       "      <td>Buffet</td>\n",
       "    </tr>\n",
       "  </tbody>\n",
       "</table>\n",
       "</div>"
      ],
      "text/plain": [
       "                    name online_order book_table  rate  votes      location  \\\n",
       "0                  Jalsa          Yes        Yes   4.1    775  Banashankari   \n",
       "1         Spice Elephant          Yes         No   4.1    787  Banashankari   \n",
       "2        San Churro Cafe          Yes         No   3.8    918  Banashankari   \n",
       "3  Addhuri Udupi Bhojana           No         No   3.7     88  Banashankari   \n",
       "4          Grand Village           No         No   3.8    166  Basavanagudi   \n",
       "\n",
       "             rest_type                        cuisines  Cost2plates    Type  \n",
       "0        Casual Dining  North Indian, Mughlai, Chinese        800.0  Buffet  \n",
       "1        Casual Dining     Chinese, North Indian, Thai        800.0  Buffet  \n",
       "2  Cafe, Casual Dining          Cafe, Mexican, Italian        800.0  Buffet  \n",
       "3          Quick Bites      South Indian, North Indian        300.0  Buffet  \n",
       "4        Casual Dining        North Indian, Rajasthani        600.0  Buffet  "
      ]
     },
     "execution_count": 25,
     "metadata": {},
     "output_type": "execute_result"
    }
   ],
   "source": [
    "df.head()"
   ]
  },
  {
   "cell_type": "markdown",
   "id": "83f0d289",
   "metadata": {
    "papermill": {
     "duration": 0.023406,
     "end_time": "2024-04-03T21:06:45.235267",
     "exception": false,
     "start_time": "2024-04-03T21:06:45.211861",
     "status": "completed"
    },
    "tags": []
   },
   "source": [
    "Cleaning Cuisines Columns"
   ]
  },
  {
   "cell_type": "code",
   "execution_count": 26,
   "id": "11144d1e",
   "metadata": {
    "execution": {
     "iopub.execute_input": "2024-04-03T21:06:45.286279Z",
     "iopub.status.busy": "2024-04-03T21:06:45.285326Z",
     "iopub.status.idle": "2024-04-03T21:06:45.427069Z",
     "shell.execute_reply": "2024-04-03T21:06:45.425945Z"
    },
    "papermill": {
     "duration": 0.169651,
     "end_time": "2024-04-03T21:06:45.429497",
     "exception": false,
     "start_time": "2024-04-03T21:06:45.259846",
     "status": "completed"
    },
    "tags": []
   },
   "outputs": [
    {
     "data": {
      "text/plain": [
       "cuisines\n",
       "others                                23103\n",
       "North Indian                           2107\n",
       "North Indian, Chinese                  1949\n",
       "South Indian                           1231\n",
       "Cafe                                    620\n",
       "                                      ...  \n",
       "Chinese, Thai, Momos                    110\n",
       "North Indian, Chinese, Continental      105\n",
       "Andhra, Biryani                         104\n",
       "Italian, Pizza                          101\n",
       "Cafe, Bakery                            100\n",
       "Name: count, Length: 62, dtype: int64"
      ]
     },
     "execution_count": 26,
     "metadata": {},
     "output_type": "execute_result"
    }
   ],
   "source": [
    "cuisines = df['cuisines'].value_counts(ascending = False)\n",
    "\n",
    "cuisines_lessthan100 = cuisines[cuisines <100]\n",
    "\n",
    "def handleCuisines(value):\n",
    "    if(value in cuisines_lessthan100):\n",
    "        return 'others'\n",
    "    else:\n",
    "        return value\n",
    "df['cuisines']  = df['cuisines'].apply(handleCuisines)\n",
    "df['cuisines'].value_counts()"
   ]
  },
  {
   "cell_type": "markdown",
   "id": "2e6b58a0",
   "metadata": {
    "papermill": {
     "duration": 0.024294,
     "end_time": "2024-04-03T21:06:45.480331",
     "exception": false,
     "start_time": "2024-04-03T21:06:45.456037",
     "status": "completed"
    },
    "tags": []
   },
   "source": []
  },
  {
   "cell_type": "code",
   "execution_count": 27,
   "id": "93a2d436",
   "metadata": {
    "execution": {
     "iopub.execute_input": "2024-04-03T21:06:45.531263Z",
     "iopub.status.busy": "2024-04-03T21:06:45.530855Z",
     "iopub.status.idle": "2024-04-03T21:06:45.549145Z",
     "shell.execute_reply": "2024-04-03T21:06:45.547857Z"
    },
    "papermill": {
     "duration": 0.047097,
     "end_time": "2024-04-03T21:06:45.551855",
     "exception": false,
     "start_time": "2024-04-03T21:06:45.504758",
     "status": "completed"
    },
    "tags": []
   },
   "outputs": [
    {
     "data": {
      "text/html": [
       "<div>\n",
       "<style scoped>\n",
       "    .dataframe tbody tr th:only-of-type {\n",
       "        vertical-align: middle;\n",
       "    }\n",
       "\n",
       "    .dataframe tbody tr th {\n",
       "        vertical-align: top;\n",
       "    }\n",
       "\n",
       "    .dataframe thead th {\n",
       "        text-align: right;\n",
       "    }\n",
       "</style>\n",
       "<table border=\"1\" class=\"dataframe\">\n",
       "  <thead>\n",
       "    <tr style=\"text-align: right;\">\n",
       "      <th></th>\n",
       "      <th>name</th>\n",
       "      <th>online_order</th>\n",
       "      <th>book_table</th>\n",
       "      <th>rate</th>\n",
       "      <th>votes</th>\n",
       "      <th>location</th>\n",
       "      <th>rest_type</th>\n",
       "      <th>cuisines</th>\n",
       "      <th>Cost2plates</th>\n",
       "      <th>Type</th>\n",
       "    </tr>\n",
       "  </thead>\n",
       "  <tbody>\n",
       "    <tr>\n",
       "      <th>0</th>\n",
       "      <td>Jalsa</td>\n",
       "      <td>Yes</td>\n",
       "      <td>Yes</td>\n",
       "      <td>4.1</td>\n",
       "      <td>775</td>\n",
       "      <td>Banashankari</td>\n",
       "      <td>Casual Dining</td>\n",
       "      <td>others</td>\n",
       "      <td>800.0</td>\n",
       "      <td>Buffet</td>\n",
       "    </tr>\n",
       "    <tr>\n",
       "      <th>1</th>\n",
       "      <td>Spice Elephant</td>\n",
       "      <td>Yes</td>\n",
       "      <td>No</td>\n",
       "      <td>4.1</td>\n",
       "      <td>787</td>\n",
       "      <td>Banashankari</td>\n",
       "      <td>Casual Dining</td>\n",
       "      <td>others</td>\n",
       "      <td>800.0</td>\n",
       "      <td>Buffet</td>\n",
       "    </tr>\n",
       "    <tr>\n",
       "      <th>2</th>\n",
       "      <td>San Churro Cafe</td>\n",
       "      <td>Yes</td>\n",
       "      <td>No</td>\n",
       "      <td>3.8</td>\n",
       "      <td>918</td>\n",
       "      <td>Banashankari</td>\n",
       "      <td>Cafe, Casual Dining</td>\n",
       "      <td>others</td>\n",
       "      <td>800.0</td>\n",
       "      <td>Buffet</td>\n",
       "    </tr>\n",
       "    <tr>\n",
       "      <th>3</th>\n",
       "      <td>Addhuri Udupi Bhojana</td>\n",
       "      <td>No</td>\n",
       "      <td>No</td>\n",
       "      <td>3.7</td>\n",
       "      <td>88</td>\n",
       "      <td>Banashankari</td>\n",
       "      <td>Quick Bites</td>\n",
       "      <td>South Indian, North Indian</td>\n",
       "      <td>300.0</td>\n",
       "      <td>Buffet</td>\n",
       "    </tr>\n",
       "    <tr>\n",
       "      <th>4</th>\n",
       "      <td>Grand Village</td>\n",
       "      <td>No</td>\n",
       "      <td>No</td>\n",
       "      <td>3.8</td>\n",
       "      <td>166</td>\n",
       "      <td>Basavanagudi</td>\n",
       "      <td>Casual Dining</td>\n",
       "      <td>others</td>\n",
       "      <td>600.0</td>\n",
       "      <td>Buffet</td>\n",
       "    </tr>\n",
       "  </tbody>\n",
       "</table>\n",
       "</div>"
      ],
      "text/plain": [
       "                    name online_order book_table  rate  votes      location  \\\n",
       "0                  Jalsa          Yes        Yes   4.1    775  Banashankari   \n",
       "1         Spice Elephant          Yes         No   4.1    787  Banashankari   \n",
       "2        San Churro Cafe          Yes         No   3.8    918  Banashankari   \n",
       "3  Addhuri Udupi Bhojana           No         No   3.7     88  Banashankari   \n",
       "4          Grand Village           No         No   3.8    166  Basavanagudi   \n",
       "\n",
       "             rest_type                    cuisines  Cost2plates    Type  \n",
       "0        Casual Dining                      others        800.0  Buffet  \n",
       "1        Casual Dining                      others        800.0  Buffet  \n",
       "2  Cafe, Casual Dining                      others        800.0  Buffet  \n",
       "3          Quick Bites  South Indian, North Indian        300.0  Buffet  \n",
       "4        Casual Dining                      others        600.0  Buffet  "
      ]
     },
     "execution_count": 27,
     "metadata": {},
     "output_type": "execute_result"
    }
   ],
   "source": [
    "df.head()"
   ]
  },
  {
   "cell_type": "markdown",
   "id": "d2f44ebc",
   "metadata": {
    "papermill": {
     "duration": 0.024277,
     "end_time": "2024-04-03T21:06:45.600704",
     "exception": false,
     "start_time": "2024-04-03T21:06:45.576427",
     "status": "completed"
    },
    "tags": []
   },
   "source": [
    "Cleaning type columns"
   ]
  },
  {
   "cell_type": "code",
   "execution_count": 28,
   "id": "08a46473",
   "metadata": {
    "execution": {
     "iopub.execute_input": "2024-04-03T21:06:45.651489Z",
     "iopub.status.busy": "2024-04-03T21:06:45.651007Z",
     "iopub.status.idle": "2024-04-03T21:06:45.663865Z",
     "shell.execute_reply": "2024-04-03T21:06:45.662859Z"
    },
    "papermill": {
     "duration": 0.041402,
     "end_time": "2024-04-03T21:06:45.666449",
     "exception": false,
     "start_time": "2024-04-03T21:06:45.625047",
     "status": "completed"
    },
    "tags": []
   },
   "outputs": [],
   "source": [
    "type = df['Type'].value_counts()"
   ]
  },
  {
   "cell_type": "markdown",
   "id": "f0c6ae9b",
   "metadata": {
    "papermill": {
     "duration": 0.02442,
     "end_time": "2024-04-03T21:06:45.716097",
     "exception": false,
     "start_time": "2024-04-03T21:06:45.691677",
     "status": "completed"
    },
    "tags": []
   },
   "source": [
    "Visualization"
   ]
  },
  {
   "cell_type": "code",
   "execution_count": 29,
   "id": "0d042a8d",
   "metadata": {
    "execution": {
     "iopub.execute_input": "2024-04-03T21:06:45.766626Z",
     "iopub.status.busy": "2024-04-03T21:06:45.766256Z",
     "iopub.status.idle": "2024-04-03T21:06:46.576965Z",
     "shell.execute_reply": "2024-04-03T21:06:46.576053Z"
    },
    "papermill": {
     "duration": 0.839095,
     "end_time": "2024-04-03T21:06:46.579425",
     "exception": false,
     "start_time": "2024-04-03T21:06:45.740330",
     "status": "completed"
    },
    "tags": []
   },
   "outputs": [
    {
     "data": {
      "image/png": "[encoded data removed]",
      "text/plain": [
       "<Figure size 1600x1000 with 1 Axes>"
      ]
     },
     "metadata": {},
     "output_type": "display_data"
    }
   ],
   "source": [
    "plt.figure(figsize=(16, 10))\n",
    "ax = sns.countplot(data=df, x='location')\n",
    "plt.xticks(rotation=90)\n",
    "plt.show()"
   ]
  },
  {
   "cell_type": "markdown",
   "id": "a1120856",
   "metadata": {
    "papermill": {
     "duration": 0.026171,
     "end_time": "2024-04-03T21:06:46.631613",
     "exception": false,
     "start_time": "2024-04-03T21:06:46.605442",
     "status": "completed"
    },
    "tags": []
   },
   "source": [
    "Visualizing Online Order"
   ]
  },
  {
   "cell_type": "code",
   "execution_count": 30,
   "id": "6413cb6e",
   "metadata": {
    "execution": {
     "iopub.execute_input": "2024-04-03T21:06:46.687322Z",
     "iopub.status.busy": "2024-04-03T21:06:46.686238Z",
     "iopub.status.idle": "2024-04-03T21:06:46.937364Z",
     "shell.execute_reply": "2024-04-03T21:06:46.936401Z"
    },
    "papermill": {
     "duration": 0.280564,
     "end_time": "2024-04-03T21:06:46.939706",
     "exception": false,
     "start_time": "2024-04-03T21:06:46.659142",
     "status": "completed"
    },
    "tags": []
   },
   "outputs": [
    {
     "data": {
      "image/png": "[encoded data removed]",
      "text/plain": [
       "<Figure size 600x600 with 1 Axes>"
      ]
     },
     "metadata": {},
     "output_type": "display_data"
    }
   ],
   "source": [
    "plt.figure(figsize=(6, 6))\n",
    "sns.countplot(x='online_order', data=df, palette='inferno')\n",
    "plt.show()"
   ]
  },
  {
   "cell_type": "markdown",
   "id": "7d9465c4",
   "metadata": {
    "papermill": {
     "duration": 0.025603,
     "end_time": "2024-04-03T21:06:46.991336",
     "exception": false,
     "start_time": "2024-04-03T21:06:46.965733",
     "status": "completed"
    },
    "tags": []
   },
   "source": [
    "Visualizing Book Table"
   ]
  },
  {
   "cell_type": "code",
   "execution_count": 31,
   "id": "e529edf9",
   "metadata": {
    "execution": {
     "iopub.execute_input": "2024-04-03T21:06:47.045379Z",
     "iopub.status.busy": "2024-04-03T21:06:47.044606Z",
     "iopub.status.idle": "2024-04-03T21:06:47.307922Z",
     "shell.execute_reply": "2024-04-03T21:06:47.307057Z"
    },
    "papermill": {
     "duration": 0.292994,
     "end_time": "2024-04-03T21:06:47.310090",
     "exception": false,
     "start_time": "2024-04-03T21:06:47.017096",
     "status": "completed"
    },
    "tags": []
   },
   "outputs": [
    {
     "data": {
      "image/png": "[encoded data removed]",
      "text/plain": [
       "<Figure size 600x600 with 1 Axes>"
      ]
     },
     "metadata": {},
     "output_type": "display_data"
    }
   ],
   "source": [
    "plt.figure(figsize=(6, 6))\n",
    "sns.countplot(x='book_table', data=df, palette='rainbow')\n",
    "plt.show()"
   ]
  },
  {
   "cell_type": "markdown",
   "id": "83dded06",
   "metadata": {
    "papermill": {
     "duration": 0.025919,
     "end_time": "2024-04-03T21:06:47.362708",
     "exception": false,
     "start_time": "2024-04-03T21:06:47.336789",
     "status": "completed"
    },
    "tags": []
   },
   "source": [
    "Visualizing Online Order vs Rate"
   ]
  },
  {
   "cell_type": "code",
   "execution_count": 32,
   "id": "868a3467",
   "metadata": {
    "execution": {
     "iopub.execute_input": "2024-04-03T21:06:47.417691Z",
     "iopub.status.busy": "2024-04-03T21:06:47.416693Z",
     "iopub.status.idle": "2024-04-03T21:06:47.710783Z",
     "shell.execute_reply": "2024-04-03T21:06:47.709490Z"
    },
    "papermill": {
     "duration": 0.324152,
     "end_time": "2024-04-03T21:06:47.713199",
     "exception": false,
     "start_time": "2024-04-03T21:06:47.389047",
     "status": "completed"
    },
    "tags": []
   },
   "outputs": [
    {
     "data": {
      "text/plain": [
       "<Axes: xlabel='online_order', ylabel='rate'>"
      ]
     },
     "execution_count": 32,
     "metadata": {},
     "output_type": "execute_result"
    },
    {
     "data": {
      "image/png": "[encoded data removed]",
      "text/plain": [
       "<Figure size 600x600 with 1 Axes>"
      ]
     },
     "metadata": {},
     "output_type": "display_data"
    }
   ],
   "source": [
    "plt.figure(figsize = (6,6))\n",
    "sns.boxplot(x = 'online_order', y = 'rate', data = df)"
   ]
  },
  {
   "cell_type": "markdown",
   "id": "cb0df5af",
   "metadata": {
    "papermill": {
     "duration": 0.026965,
     "end_time": "2024-04-03T21:06:47.766951",
     "exception": false,
     "start_time": "2024-04-03T21:06:47.739986",
     "status": "completed"
    },
    "tags": []
   },
   "source": []
  },
  {
   "cell_type": "markdown",
   "id": "f822dd97",
   "metadata": {
    "execution": {
     "iopub.execute_input": "2024-04-03T21:03:16.748260Z",
     "iopub.status.busy": "2024-04-03T21:03:16.747368Z",
     "iopub.status.idle": "2024-04-03T21:03:16.755868Z",
     "shell.execute_reply": "2024-04-03T21:03:16.754263Z",
     "shell.execute_reply.started": "2024-04-03T21:03:16.748227Z"
    },
    "papermill": {
     "duration": 0.026427,
     "end_time": "2024-04-03T21:06:47.821408",
     "exception": false,
     "start_time": "2024-04-03T21:06:47.794981",
     "status": "completed"
    },
    "tags": []
   },
   "source": [
    "Visualizing Book Table Vs Rate"
   ]
  },
  {
   "cell_type": "code",
   "execution_count": 33,
   "id": "cf297189",
   "metadata": {
    "execution": {
     "iopub.execute_input": "2024-04-03T21:06:47.877662Z",
     "iopub.status.busy": "2024-04-03T21:06:47.876909Z",
     "iopub.status.idle": "2024-04-03T21:06:48.144350Z",
     "shell.execute_reply": "2024-04-03T21:06:48.143129Z"
    },
    "papermill": {
     "duration": 0.298234,
     "end_time": "2024-04-03T21:06:48.146809",
     "exception": false,
     "start_time": "2024-04-03T21:06:47.848575",
     "status": "completed"
    },
    "tags": []
   },
   "outputs": [
    {
     "data": {
      "image/png": "[encoded data removed]",
      "text/plain": [
       "<Figure size 600x600 with 1 Axes>"
      ]
     },
     "metadata": {},
     "output_type": "display_data"
    }
   ],
   "source": [
    "plt.figure(figsize = (6,6))\n",
    "sns.boxplot(x = 'book_table', y = 'rate', data =df)\n",
    "plt.show()"
   ]
  },
  {
   "cell_type": "markdown",
   "id": "4f0a33b5",
   "metadata": {
    "papermill": {
     "duration": 0.027383,
     "end_time": "2024-04-03T21:06:48.201800",
     "exception": false,
     "start_time": "2024-04-03T21:06:48.174417",
     "status": "completed"
    },
    "tags": []
   },
   "source": [
    "Visualizing Online Order Facility, Location Wise"
   ]
  },
  {
   "cell_type": "code",
   "execution_count": 34,
   "id": "7c87910e",
   "metadata": {
    "execution": {
     "iopub.execute_input": "2024-04-03T21:06:48.259607Z",
     "iopub.status.busy": "2024-04-03T21:06:48.259173Z",
     "iopub.status.idle": "2024-04-03T21:06:48.304322Z",
     "shell.execute_reply": "2024-04-03T21:06:48.303169Z"
    },
    "papermill": {
     "duration": 0.077587,
     "end_time": "2024-04-03T21:06:48.307203",
     "exception": false,
     "start_time": "2024-04-03T21:06:48.229616",
     "status": "completed"
    },
    "tags": []
   },
   "outputs": [
    {
     "data": {
      "text/html": [
       "<div>\n",
       "<style scoped>\n",
       "    .dataframe tbody tr th:only-of-type {\n",
       "        vertical-align: middle;\n",
       "    }\n",
       "\n",
       "    .dataframe tbody tr th {\n",
       "        vertical-align: top;\n",
       "    }\n",
       "\n",
       "    .dataframe thead th {\n",
       "        text-align: right;\n",
       "    }\n",
       "</style>\n",
       "<table border=\"1\" class=\"dataframe\">\n",
       "  <thead>\n",
       "    <tr style=\"text-align: right;\">\n",
       "      <th>online_order</th>\n",
       "      <th>No</th>\n",
       "      <th>Yes</th>\n",
       "    </tr>\n",
       "    <tr>\n",
       "      <th>location</th>\n",
       "      <th></th>\n",
       "      <th></th>\n",
       "    </tr>\n",
       "  </thead>\n",
       "  <tbody>\n",
       "    <tr>\n",
       "      <th>BTM</th>\n",
       "      <td>1016</td>\n",
       "      <td>2857</td>\n",
       "    </tr>\n",
       "    <tr>\n",
       "      <th>Banashankari</th>\n",
       "      <td>273</td>\n",
       "      <td>471</td>\n",
       "    </tr>\n",
       "    <tr>\n",
       "      <th>Banaswadi</th>\n",
       "      <td>171</td>\n",
       "      <td>292</td>\n",
       "    </tr>\n",
       "    <tr>\n",
       "      <th>Bannerghatta Road</th>\n",
       "      <td>396</td>\n",
       "      <td>828</td>\n",
       "    </tr>\n",
       "    <tr>\n",
       "      <th>Basavanagudi</th>\n",
       "      <td>183</td>\n",
       "      <td>412</td>\n",
       "    </tr>\n",
       "    <tr>\n",
       "      <th>Bellandur</th>\n",
       "      <td>331</td>\n",
       "      <td>665</td>\n",
       "    </tr>\n",
       "    <tr>\n",
       "      <th>Brigade Road</th>\n",
       "      <td>441</td>\n",
       "      <td>607</td>\n",
       "    </tr>\n",
       "    <tr>\n",
       "      <th>Brookefield</th>\n",
       "      <td>159</td>\n",
       "      <td>384</td>\n",
       "    </tr>\n",
       "    <tr>\n",
       "      <th>Church Street</th>\n",
       "      <td>212</td>\n",
       "      <td>331</td>\n",
       "    </tr>\n",
       "    <tr>\n",
       "      <th>Cunningham Road</th>\n",
       "      <td>156</td>\n",
       "      <td>318</td>\n",
       "    </tr>\n",
       "    <tr>\n",
       "      <th>Domlur</th>\n",
       "      <td>188</td>\n",
       "      <td>218</td>\n",
       "    </tr>\n",
       "    <tr>\n",
       "      <th>Electronic City</th>\n",
       "      <td>364</td>\n",
       "      <td>468</td>\n",
       "    </tr>\n",
       "    <tr>\n",
       "      <th>Frazer Town</th>\n",
       "      <td>196</td>\n",
       "      <td>367</td>\n",
       "    </tr>\n",
       "    <tr>\n",
       "      <th>HSR</th>\n",
       "      <td>334</td>\n",
       "      <td>1658</td>\n",
       "    </tr>\n",
       "    <tr>\n",
       "      <th>Indiranagar</th>\n",
       "      <td>539</td>\n",
       "      <td>1256</td>\n",
       "    </tr>\n",
       "    <tr>\n",
       "      <th>JP Nagar</th>\n",
       "      <td>560</td>\n",
       "      <td>1150</td>\n",
       "    </tr>\n",
       "    <tr>\n",
       "      <th>Jayanagar</th>\n",
       "      <td>402</td>\n",
       "      <td>1232</td>\n",
       "    </tr>\n",
       "    <tr>\n",
       "      <th>Kalyan Nagar</th>\n",
       "      <td>245</td>\n",
       "      <td>447</td>\n",
       "    </tr>\n",
       "    <tr>\n",
       "      <th>Kammanahalli</th>\n",
       "      <td>159</td>\n",
       "      <td>333</td>\n",
       "    </tr>\n",
       "    <tr>\n",
       "      <th>Koramangala 1st Block</th>\n",
       "      <td>152</td>\n",
       "      <td>699</td>\n",
       "    </tr>\n",
       "    <tr>\n",
       "      <th>Koramangala 4th Block</th>\n",
       "      <td>353</td>\n",
       "      <td>488</td>\n",
       "    </tr>\n",
       "    <tr>\n",
       "      <th>Koramangala 5th Block</th>\n",
       "      <td>770</td>\n",
       "      <td>1525</td>\n",
       "    </tr>\n",
       "    <tr>\n",
       "      <th>Koramangala 6th Block</th>\n",
       "      <td>408</td>\n",
       "      <td>644</td>\n",
       "    </tr>\n",
       "    <tr>\n",
       "      <th>Koramangala 7th Block</th>\n",
       "      <td>313</td>\n",
       "      <td>740</td>\n",
       "    </tr>\n",
       "    <tr>\n",
       "      <th>Lavelle Road</th>\n",
       "      <td>282</td>\n",
       "      <td>194</td>\n",
       "    </tr>\n",
       "    <tr>\n",
       "      <th>MG Road</th>\n",
       "      <td>436</td>\n",
       "      <td>356</td>\n",
       "    </tr>\n",
       "    <tr>\n",
       "      <th>Malleshwaram</th>\n",
       "      <td>247</td>\n",
       "      <td>394</td>\n",
       "    </tr>\n",
       "    <tr>\n",
       "      <th>Marathahalli</th>\n",
       "      <td>446</td>\n",
       "      <td>961</td>\n",
       "    </tr>\n",
       "    <tr>\n",
       "      <th>New BEL Road</th>\n",
       "      <td>157</td>\n",
       "      <td>349</td>\n",
       "    </tr>\n",
       "    <tr>\n",
       "      <th>Old Airport Road</th>\n",
       "      <td>159</td>\n",
       "      <td>194</td>\n",
       "    </tr>\n",
       "    <tr>\n",
       "      <th>Rajajinagar</th>\n",
       "      <td>182</td>\n",
       "      <td>279</td>\n",
       "    </tr>\n",
       "    <tr>\n",
       "      <th>Residency Road</th>\n",
       "      <td>372</td>\n",
       "      <td>229</td>\n",
       "    </tr>\n",
       "    <tr>\n",
       "      <th>Richmond Road</th>\n",
       "      <td>378</td>\n",
       "      <td>225</td>\n",
       "    </tr>\n",
       "    <tr>\n",
       "      <th>Sarjapur Road</th>\n",
       "      <td>199</td>\n",
       "      <td>653</td>\n",
       "    </tr>\n",
       "    <tr>\n",
       "      <th>Shanti Nagar</th>\n",
       "      <td>173</td>\n",
       "      <td>193</td>\n",
       "    </tr>\n",
       "    <tr>\n",
       "      <th>St. Marks Road</th>\n",
       "      <td>176</td>\n",
       "      <td>167</td>\n",
       "    </tr>\n",
       "    <tr>\n",
       "      <th>Ulsoor</th>\n",
       "      <td>296</td>\n",
       "      <td>547</td>\n",
       "    </tr>\n",
       "    <tr>\n",
       "      <th>Whitefield</th>\n",
       "      <td>612</td>\n",
       "      <td>956</td>\n",
       "    </tr>\n",
       "    <tr>\n",
       "      <th>others</th>\n",
       "      <td>1708</td>\n",
       "      <td>2959</td>\n",
       "    </tr>\n",
       "  </tbody>\n",
       "</table>\n",
       "</div>"
      ],
      "text/plain": [
       "online_order             No   Yes\n",
       "location                         \n",
       "BTM                    1016  2857\n",
       "Banashankari            273   471\n",
       "Banaswadi               171   292\n",
       "Bannerghatta Road       396   828\n",
       "Basavanagudi            183   412\n",
       "Bellandur               331   665\n",
       "Brigade Road            441   607\n",
       "Brookefield             159   384\n",
       "Church Street           212   331\n",
       "Cunningham Road         156   318\n",
       "Domlur                  188   218\n",
       "Electronic City         364   468\n",
       "Frazer Town             196   367\n",
       "HSR                     334  1658\n",
       "Indiranagar             539  1256\n",
       "JP Nagar                560  1150\n",
       "Jayanagar               402  1232\n",
       "Kalyan Nagar            245   447\n",
       "Kammanahalli            159   333\n",
       "Koramangala 1st Block   152   699\n",
       "Koramangala 4th Block   353   488\n",
       "Koramangala 5th Block   770  1525\n",
       "Koramangala 6th Block   408   644\n",
       "Koramangala 7th Block   313   740\n",
       "Lavelle Road            282   194\n",
       "MG Road                 436   356\n",
       "Malleshwaram            247   394\n",
       "Marathahalli            446   961\n",
       "New BEL Road            157   349\n",
       "Old Airport Road        159   194\n",
       "Rajajinagar             182   279\n",
       "Residency Road          372   229\n",
       "Richmond Road           378   225\n",
       "Sarjapur Road           199   653\n",
       "Shanti Nagar            173   193\n",
       "St. Marks Road          176   167\n",
       "Ulsoor                  296   547\n",
       "Whitefield              612   956\n",
       "others                 1708  2959"
      ]
     },
     "execution_count": 34,
     "metadata": {},
     "output_type": "execute_result"
    }
   ],
   "source": [
    "# Group by 'location' and 'online_order' and count occurrences of 'name'\n",
    "df1 = df.groupby(['location', 'online_order'])['name'].count()\n",
    "\n",
    "# Save the result to a CSV file\n",
    "df1.to_csv('location_online.csv')\n",
    "\n",
    "# Read the CSV file into a DataFrame\n",
    "df1 = pd.read_csv('location_online.csv')\n",
    "\n",
    "# Pivot the DataFrame to have 'location' as index, 'online_order' as columns, and counts as values\n",
    "df1 = pd.pivot_table(df1, values='name', index=['location'], columns=['online_order'], fill_value=0, aggfunc='sum')\n",
    "\n",
    "df1"
   ]
  },
  {
   "cell_type": "markdown",
   "id": "c2617af6",
   "metadata": {
    "papermill": {
     "duration": 0.027621,
     "end_time": "2024-04-03T21:06:48.362475",
     "exception": false,
     "start_time": "2024-04-03T21:06:48.334854",
     "status": "completed"
    },
    "tags": []
   },
   "source": [
    "Visualizing Using a Bar Graph"
   ]
  },
  {
   "cell_type": "code",
   "execution_count": 35,
   "id": "4318f07f",
   "metadata": {
    "execution": {
     "iopub.execute_input": "2024-04-03T21:06:48.420587Z",
     "iopub.status.busy": "2024-04-03T21:06:48.420175Z",
     "iopub.status.idle": "2024-04-03T21:06:49.299696Z",
     "shell.execute_reply": "2024-04-03T21:06:49.298473Z"
    },
    "papermill": {
     "duration": 0.911986,
     "end_time": "2024-04-03T21:06:49.302269",
     "exception": false,
     "start_time": "2024-04-03T21:06:48.390283",
     "status": "completed"
    },
    "tags": []
   },
   "outputs": [
    {
     "data": {
      "text/plain": [
       "<Axes: xlabel='location'>"
      ]
     },
     "execution_count": 35,
     "metadata": {},
     "output_type": "execute_result"
    },
    {
     "data": {
      "image/png": "[encoded data removed]",
      "text/plain": [
       "<Figure size 1500x800 with 1 Axes>"
      ]
     },
     "metadata": {},
     "output_type": "display_data"
    }
   ],
   "source": [
    "df1.plot(kind = 'bar', figsize = (15,8))"
   ]
  },
  {
   "cell_type": "markdown",
   "id": "0ef97a8f",
   "metadata": {
    "papermill": {
     "duration": 0.028521,
     "end_time": "2024-04-03T21:06:49.359625",
     "exception": false,
     "start_time": "2024-04-03T21:06:49.331104",
     "status": "completed"
    },
    "tags": []
   },
   "source": [
    "Visualizing Book Table Facility, Location Wise"
   ]
  },
  {
   "cell_type": "code",
   "execution_count": 36,
   "id": "461174bc",
   "metadata": {
    "execution": {
     "iopub.execute_input": "2024-04-03T21:06:49.420208Z",
     "iopub.status.busy": "2024-04-03T21:06:49.419769Z",
     "iopub.status.idle": "2024-04-03T21:06:49.460420Z",
     "shell.execute_reply": "2024-04-03T21:06:49.459280Z"
    },
    "papermill": {
     "duration": 0.074218,
     "end_time": "2024-04-03T21:06:49.463002",
     "exception": false,
     "start_time": "2024-04-03T21:06:49.388784",
     "status": "completed"
    },
    "tags": []
   },
   "outputs": [
    {
     "data": {
      "text/html": [
       "<div>\n",
       "<style scoped>\n",
       "    .dataframe tbody tr th:only-of-type {\n",
       "        vertical-align: middle;\n",
       "    }\n",
       "\n",
       "    .dataframe tbody tr th {\n",
       "        vertical-align: top;\n",
       "    }\n",
       "\n",
       "    .dataframe thead tr th {\n",
       "        text-align: left;\n",
       "    }\n",
       "\n",
       "    .dataframe thead tr:last-of-type th {\n",
       "        text-align: right;\n",
       "    }\n",
       "</style>\n",
       "<table border=\"1\" class=\"dataframe\">\n",
       "  <thead>\n",
       "    <tr>\n",
       "      <th></th>\n",
       "      <th colspan=\"2\" halign=\"left\">name</th>\n",
       "    </tr>\n",
       "    <tr>\n",
       "      <th>book_table</th>\n",
       "      <th>No</th>\n",
       "      <th>Yes</th>\n",
       "    </tr>\n",
       "    <tr>\n",
       "      <th>location</th>\n",
       "      <th></th>\n",
       "      <th></th>\n",
       "    </tr>\n",
       "  </thead>\n",
       "  <tbody>\n",
       "    <tr>\n",
       "      <th>BTM</th>\n",
       "      <td>3719</td>\n",
       "      <td>154</td>\n",
       "    </tr>\n",
       "    <tr>\n",
       "      <th>Banashankari</th>\n",
       "      <td>691</td>\n",
       "      <td>53</td>\n",
       "    </tr>\n",
       "    <tr>\n",
       "      <th>Banaswadi</th>\n",
       "      <td>455</td>\n",
       "      <td>8</td>\n",
       "    </tr>\n",
       "    <tr>\n",
       "      <th>Bannerghatta Road</th>\n",
       "      <td>1126</td>\n",
       "      <td>98</td>\n",
       "    </tr>\n",
       "    <tr>\n",
       "      <th>Basavanagudi</th>\n",
       "      <td>579</td>\n",
       "      <td>16</td>\n",
       "    </tr>\n",
       "    <tr>\n",
       "      <th>Bellandur</th>\n",
       "      <td>898</td>\n",
       "      <td>98</td>\n",
       "    </tr>\n",
       "    <tr>\n",
       "      <th>Brigade Road</th>\n",
       "      <td>877</td>\n",
       "      <td>171</td>\n",
       "    </tr>\n",
       "    <tr>\n",
       "      <th>Brookefield</th>\n",
       "      <td>471</td>\n",
       "      <td>72</td>\n",
       "    </tr>\n",
       "    <tr>\n",
       "      <th>Church Street</th>\n",
       "      <td>362</td>\n",
       "      <td>181</td>\n",
       "    </tr>\n",
       "    <tr>\n",
       "      <th>Cunningham Road</th>\n",
       "      <td>299</td>\n",
       "      <td>175</td>\n",
       "    </tr>\n",
       "    <tr>\n",
       "      <th>Domlur</th>\n",
       "      <td>351</td>\n",
       "      <td>55</td>\n",
       "    </tr>\n",
       "    <tr>\n",
       "      <th>Electronic City</th>\n",
       "      <td>736</td>\n",
       "      <td>96</td>\n",
       "    </tr>\n",
       "    <tr>\n",
       "      <th>Frazer Town</th>\n",
       "      <td>555</td>\n",
       "      <td>8</td>\n",
       "    </tr>\n",
       "    <tr>\n",
       "      <th>HSR</th>\n",
       "      <td>1784</td>\n",
       "      <td>208</td>\n",
       "    </tr>\n",
       "    <tr>\n",
       "      <th>Indiranagar</th>\n",
       "      <td>1367</td>\n",
       "      <td>428</td>\n",
       "    </tr>\n",
       "    <tr>\n",
       "      <th>JP Nagar</th>\n",
       "      <td>1422</td>\n",
       "      <td>288</td>\n",
       "    </tr>\n",
       "    <tr>\n",
       "      <th>Jayanagar</th>\n",
       "      <td>1365</td>\n",
       "      <td>269</td>\n",
       "    </tr>\n",
       "    <tr>\n",
       "      <th>Kalyan Nagar</th>\n",
       "      <td>549</td>\n",
       "      <td>143</td>\n",
       "    </tr>\n",
       "    <tr>\n",
       "      <th>Kammanahalli</th>\n",
       "      <td>443</td>\n",
       "      <td>49</td>\n",
       "    </tr>\n",
       "    <tr>\n",
       "      <th>Koramangala 1st Block</th>\n",
       "      <td>801</td>\n",
       "      <td>50</td>\n",
       "    </tr>\n",
       "    <tr>\n",
       "      <th>Koramangala 4th Block</th>\n",
       "      <td>531</td>\n",
       "      <td>310</td>\n",
       "    </tr>\n",
       "    <tr>\n",
       "      <th>Koramangala 5th Block</th>\n",
       "      <td>1625</td>\n",
       "      <td>670</td>\n",
       "    </tr>\n",
       "    <tr>\n",
       "      <th>Koramangala 6th Block</th>\n",
       "      <td>940</td>\n",
       "      <td>112</td>\n",
       "    </tr>\n",
       "    <tr>\n",
       "      <th>Koramangala 7th Block</th>\n",
       "      <td>891</td>\n",
       "      <td>162</td>\n",
       "    </tr>\n",
       "    <tr>\n",
       "      <th>Lavelle Road</th>\n",
       "      <td>248</td>\n",
       "      <td>228</td>\n",
       "    </tr>\n",
       "    <tr>\n",
       "      <th>MG Road</th>\n",
       "      <td>445</td>\n",
       "      <td>347</td>\n",
       "    </tr>\n",
       "    <tr>\n",
       "      <th>Malleshwaram</th>\n",
       "      <td>552</td>\n",
       "      <td>89</td>\n",
       "    </tr>\n",
       "    <tr>\n",
       "      <th>Marathahalli</th>\n",
       "      <td>1244</td>\n",
       "      <td>163</td>\n",
       "    </tr>\n",
       "    <tr>\n",
       "      <th>New BEL Road</th>\n",
       "      <td>450</td>\n",
       "      <td>56</td>\n",
       "    </tr>\n",
       "    <tr>\n",
       "      <th>Old Airport Road</th>\n",
       "      <td>294</td>\n",
       "      <td>59</td>\n",
       "    </tr>\n",
       "    <tr>\n",
       "      <th>Rajajinagar</th>\n",
       "      <td>420</td>\n",
       "      <td>41</td>\n",
       "    </tr>\n",
       "    <tr>\n",
       "      <th>Residency Road</th>\n",
       "      <td>452</td>\n",
       "      <td>149</td>\n",
       "    </tr>\n",
       "    <tr>\n",
       "      <th>Richmond Road</th>\n",
       "      <td>487</td>\n",
       "      <td>116</td>\n",
       "    </tr>\n",
       "    <tr>\n",
       "      <th>Sarjapur Road</th>\n",
       "      <td>699</td>\n",
       "      <td>153</td>\n",
       "    </tr>\n",
       "    <tr>\n",
       "      <th>Shanti Nagar</th>\n",
       "      <td>309</td>\n",
       "      <td>57</td>\n",
       "    </tr>\n",
       "    <tr>\n",
       "      <th>St. Marks Road</th>\n",
       "      <td>219</td>\n",
       "      <td>124</td>\n",
       "    </tr>\n",
       "    <tr>\n",
       "      <th>Ulsoor</th>\n",
       "      <td>666</td>\n",
       "      <td>177</td>\n",
       "    </tr>\n",
       "    <tr>\n",
       "      <th>Whitefield</th>\n",
       "      <td>1316</td>\n",
       "      <td>252</td>\n",
       "    </tr>\n",
       "    <tr>\n",
       "      <th>others</th>\n",
       "      <td>4277</td>\n",
       "      <td>390</td>\n",
       "    </tr>\n",
       "  </tbody>\n",
       "</table>\n",
       "</div>"
      ],
      "text/plain": [
       "                       name     \n",
       "book_table               No  Yes\n",
       "location                        \n",
       "BTM                    3719  154\n",
       "Banashankari            691   53\n",
       "Banaswadi               455    8\n",
       "Bannerghatta Road      1126   98\n",
       "Basavanagudi            579   16\n",
       "Bellandur               898   98\n",
       "Brigade Road            877  171\n",
       "Brookefield             471   72\n",
       "Church Street           362  181\n",
       "Cunningham Road         299  175\n",
       "Domlur                  351   55\n",
       "Electronic City         736   96\n",
       "Frazer Town             555    8\n",
       "HSR                    1784  208\n",
       "Indiranagar            1367  428\n",
       "JP Nagar               1422  288\n",
       "Jayanagar              1365  269\n",
       "Kalyan Nagar            549  143\n",
       "Kammanahalli            443   49\n",
       "Koramangala 1st Block   801   50\n",
       "Koramangala 4th Block   531  310\n",
       "Koramangala 5th Block  1625  670\n",
       "Koramangala 6th Block   940  112\n",
       "Koramangala 7th Block   891  162\n",
       "Lavelle Road            248  228\n",
       "MG Road                 445  347\n",
       "Malleshwaram            552   89\n",
       "Marathahalli           1244  163\n",
       "New BEL Road            450   56\n",
       "Old Airport Road        294   59\n",
       "Rajajinagar             420   41\n",
       "Residency Road          452  149\n",
       "Richmond Road           487  116\n",
       "Sarjapur Road           699  153\n",
       "Shanti Nagar            309   57\n",
       "St. Marks Road          219  124\n",
       "Ulsoor                  666  177\n",
       "Whitefield             1316  252\n",
       "others                 4277  390"
      ]
     },
     "execution_count": 36,
     "metadata": {},
     "output_type": "execute_result"
    }
   ],
   "source": [
    "df2 = df.groupby(['location', 'book_table'])['name'].count()\n",
    "df2.to_csv('location_booktable.csv')\n",
    "df2 = pd.read_csv('location_booktable.csv')\n",
    "# Pivot the DataFrame to have 'location' as index, 'book_table' as columns, and counts as values\n",
    "df2 = pd.pivot_table(df2, values=None, index=['location'], columns=['book_table'], fill_value=0, aggfunc='sum')\n",
    "df2"
   ]
  },
  {
   "cell_type": "code",
   "execution_count": 37,
   "id": "5120eb6b",
   "metadata": {
    "execution": {
     "iopub.execute_input": "2024-04-03T21:06:49.526668Z",
     "iopub.status.busy": "2024-04-03T21:06:49.525911Z",
     "iopub.status.idle": "2024-04-03T21:06:50.405061Z",
     "shell.execute_reply": "2024-04-03T21:06:50.403858Z"
    },
    "papermill": {
     "duration": 0.914937,
     "end_time": "2024-04-03T21:06:50.407575",
     "exception": false,
     "start_time": "2024-04-03T21:06:49.492638",
     "status": "completed"
    },
    "tags": []
   },
   "outputs": [
    {
     "data": {
      "text/plain": [
       "<Axes: xlabel='location'>"
      ]
     },
     "execution_count": 37,
     "metadata": {},
     "output_type": "execute_result"
    },
    {
     "data": {
      "image/png": "[encoded data removed]",
      "text/plain": [
       "<Figure size 1500x800 with 1 Axes>"
      ]
     },
     "metadata": {},
     "output_type": "display_data"
    }
   ],
   "source": [
    "df2.plot(kind = 'bar', figsize = (15,8))"
   ]
  },
  {
   "cell_type": "markdown",
   "id": "04f0702d",
   "metadata": {
    "papermill": {
     "duration": 0.030787,
     "end_time": "2024-04-03T21:06:50.469149",
     "exception": false,
     "start_time": "2024-04-03T21:06:50.438362",
     "status": "completed"
    },
    "tags": []
   },
   "source": [
    "Visualizing Types of Restaurants vs Rate"
   ]
  },
  {
   "cell_type": "code",
   "execution_count": 38,
   "id": "52c99a8a",
   "metadata": {
    "execution": {
     "iopub.execute_input": "2024-04-03T21:06:50.533690Z",
     "iopub.status.busy": "2024-04-03T21:06:50.532873Z",
     "iopub.status.idle": "2024-04-03T21:06:50.975105Z",
     "shell.execute_reply": "2024-04-03T21:06:50.973831Z"
    },
    "papermill": {
     "duration": 0.477684,
     "end_time": "2024-04-03T21:06:50.977759",
     "exception": false,
     "start_time": "2024-04-03T21:06:50.500075",
     "status": "completed"
    },
    "tags": []
   },
   "outputs": [
    {
     "data": {
      "text/plain": [
       "<Axes: xlabel='Type', ylabel='rate'>"
      ]
     },
     "execution_count": 38,
     "metadata": {},
     "output_type": "execute_result"
    },
    {
     "data": {
      "image/png": "[encoded data removed]",
      "text/plain": [
       "<Figure size 1400x800 with 1 Axes>"
      ]
     },
     "metadata": {},
     "output_type": "display_data"
    }
   ],
   "source": [
    "plt.figure(figsize = (14,8))\n",
    "sns.boxplot(x = 'Type', y = 'rate', data = df , palette = 'inferno')"
   ]
  },
  {
   "cell_type": "markdown",
   "id": "d2b99498",
   "metadata": {
    "papermill": {
     "duration": 0.032354,
     "end_time": "2024-04-03T21:06:51.041789",
     "exception": false,
     "start_time": "2024-04-03T21:06:51.009435",
     "status": "completed"
    },
    "tags": []
   },
   "source": [
    "Grouping Types of Restaurants, location Wise"
   ]
  },
  {
   "cell_type": "code",
   "execution_count": 39,
   "id": "967f3c02",
   "metadata": {
    "execution": {
     "iopub.execute_input": "2024-04-03T21:06:51.108177Z",
     "iopub.status.busy": "2024-04-03T21:06:51.106906Z",
     "iopub.status.idle": "2024-04-03T21:06:51.155547Z",
     "shell.execute_reply": "2024-04-03T21:06:51.154353Z"
    },
    "papermill": {
     "duration": 0.084721,
     "end_time": "2024-04-03T21:06:51.158245",
     "exception": false,
     "start_time": "2024-04-03T21:06:51.073524",
     "status": "completed"
    },
    "tags": []
   },
   "outputs": [
    {
     "data": {
      "text/html": [
       "<div>\n",
       "<style scoped>\n",
       "    .dataframe tbody tr th:only-of-type {\n",
       "        vertical-align: middle;\n",
       "    }\n",
       "\n",
       "    .dataframe tbody tr th {\n",
       "        vertical-align: top;\n",
       "    }\n",
       "\n",
       "    .dataframe thead tr th {\n",
       "        text-align: left;\n",
       "    }\n",
       "\n",
       "    .dataframe thead tr:last-of-type th {\n",
       "        text-align: right;\n",
       "    }\n",
       "</style>\n",
       "<table border=\"1\" class=\"dataframe\">\n",
       "  <thead>\n",
       "    <tr>\n",
       "      <th></th>\n",
       "      <th colspan=\"7\" halign=\"left\">name</th>\n",
       "    </tr>\n",
       "    <tr>\n",
       "      <th>Type</th>\n",
       "      <th>Buffet</th>\n",
       "      <th>Cafes</th>\n",
       "      <th>Delivery</th>\n",
       "      <th>Desserts</th>\n",
       "      <th>Dine-out</th>\n",
       "      <th>Drinks &amp; nightlife</th>\n",
       "      <th>Pubs and bars</th>\n",
       "    </tr>\n",
       "    <tr>\n",
       "      <th>location</th>\n",
       "      <th></th>\n",
       "      <th></th>\n",
       "      <th></th>\n",
       "      <th></th>\n",
       "      <th></th>\n",
       "      <th></th>\n",
       "      <th></th>\n",
       "    </tr>\n",
       "  </thead>\n",
       "  <tbody>\n",
       "    <tr>\n",
       "      <th>BTM</th>\n",
       "      <td>18</td>\n",
       "      <td>71</td>\n",
       "      <td>2432</td>\n",
       "      <td>125</td>\n",
       "      <td>1195</td>\n",
       "      <td>19</td>\n",
       "      <td>13</td>\n",
       "    </tr>\n",
       "    <tr>\n",
       "      <th>Banashankari</th>\n",
       "      <td>7</td>\n",
       "      <td>36</td>\n",
       "      <td>347</td>\n",
       "      <td>57</td>\n",
       "      <td>284</td>\n",
       "      <td>13</td>\n",
       "      <td>0</td>\n",
       "    </tr>\n",
       "    <tr>\n",
       "      <th>Banaswadi</th>\n",
       "      <td>0</td>\n",
       "      <td>20</td>\n",
       "      <td>225</td>\n",
       "      <td>25</td>\n",
       "      <td>186</td>\n",
       "      <td>6</td>\n",
       "      <td>1</td>\n",
       "    </tr>\n",
       "    <tr>\n",
       "      <th>Bannerghatta Road</th>\n",
       "      <td>9</td>\n",
       "      <td>37</td>\n",
       "      <td>639</td>\n",
       "      <td>83</td>\n",
       "      <td>445</td>\n",
       "      <td>9</td>\n",
       "      <td>2</td>\n",
       "    </tr>\n",
       "    <tr>\n",
       "      <th>Basavanagudi</th>\n",
       "      <td>7</td>\n",
       "      <td>11</td>\n",
       "      <td>301</td>\n",
       "      <td>52</td>\n",
       "      <td>219</td>\n",
       "      <td>5</td>\n",
       "      <td>0</td>\n",
       "    </tr>\n",
       "    <tr>\n",
       "      <th>Bellandur</th>\n",
       "      <td>28</td>\n",
       "      <td>31</td>\n",
       "      <td>466</td>\n",
       "      <td>58</td>\n",
       "      <td>380</td>\n",
       "      <td>17</td>\n",
       "      <td>16</td>\n",
       "    </tr>\n",
       "    <tr>\n",
       "      <th>Brigade Road</th>\n",
       "      <td>25</td>\n",
       "      <td>41</td>\n",
       "      <td>427</td>\n",
       "      <td>83</td>\n",
       "      <td>393</td>\n",
       "      <td>57</td>\n",
       "      <td>22</td>\n",
       "    </tr>\n",
       "    <tr>\n",
       "      <th>Brookefield</th>\n",
       "      <td>6</td>\n",
       "      <td>17</td>\n",
       "      <td>277</td>\n",
       "      <td>37</td>\n",
       "      <td>202</td>\n",
       "      <td>4</td>\n",
       "      <td>0</td>\n",
       "    </tr>\n",
       "    <tr>\n",
       "      <th>Church Street</th>\n",
       "      <td>19</td>\n",
       "      <td>46</td>\n",
       "      <td>185</td>\n",
       "      <td>29</td>\n",
       "      <td>213</td>\n",
       "      <td>31</td>\n",
       "      <td>20</td>\n",
       "    </tr>\n",
       "    <tr>\n",
       "      <th>Cunningham Road</th>\n",
       "      <td>29</td>\n",
       "      <td>28</td>\n",
       "      <td>190</td>\n",
       "      <td>26</td>\n",
       "      <td>178</td>\n",
       "      <td>16</td>\n",
       "      <td>7</td>\n",
       "    </tr>\n",
       "    <tr>\n",
       "      <th>Domlur</th>\n",
       "      <td>15</td>\n",
       "      <td>13</td>\n",
       "      <td>218</td>\n",
       "      <td>27</td>\n",
       "      <td>110</td>\n",
       "      <td>12</td>\n",
       "      <td>11</td>\n",
       "    </tr>\n",
       "    <tr>\n",
       "      <th>Electronic City</th>\n",
       "      <td>21</td>\n",
       "      <td>18</td>\n",
       "      <td>355</td>\n",
       "      <td>46</td>\n",
       "      <td>353</td>\n",
       "      <td>20</td>\n",
       "      <td>19</td>\n",
       "    </tr>\n",
       "    <tr>\n",
       "      <th>Frazer Town</th>\n",
       "      <td>1</td>\n",
       "      <td>10</td>\n",
       "      <td>360</td>\n",
       "      <td>49</td>\n",
       "      <td>139</td>\n",
       "      <td>2</td>\n",
       "      <td>2</td>\n",
       "    </tr>\n",
       "    <tr>\n",
       "      <th>HSR</th>\n",
       "      <td>16</td>\n",
       "      <td>45</td>\n",
       "      <td>1350</td>\n",
       "      <td>94</td>\n",
       "      <td>458</td>\n",
       "      <td>12</td>\n",
       "      <td>17</td>\n",
       "    </tr>\n",
       "    <tr>\n",
       "      <th>Indiranagar</th>\n",
       "      <td>36</td>\n",
       "      <td>92</td>\n",
       "      <td>961</td>\n",
       "      <td>124</td>\n",
       "      <td>461</td>\n",
       "      <td>61</td>\n",
       "      <td>60</td>\n",
       "    </tr>\n",
       "    <tr>\n",
       "      <th>JP Nagar</th>\n",
       "      <td>42</td>\n",
       "      <td>66</td>\n",
       "      <td>873</td>\n",
       "      <td>124</td>\n",
       "      <td>555</td>\n",
       "      <td>44</td>\n",
       "      <td>6</td>\n",
       "    </tr>\n",
       "    <tr>\n",
       "      <th>Jayanagar</th>\n",
       "      <td>24</td>\n",
       "      <td>72</td>\n",
       "      <td>904</td>\n",
       "      <td>136</td>\n",
       "      <td>486</td>\n",
       "      <td>12</td>\n",
       "      <td>0</td>\n",
       "    </tr>\n",
       "    <tr>\n",
       "      <th>Kalyan Nagar</th>\n",
       "      <td>9</td>\n",
       "      <td>37</td>\n",
       "      <td>289</td>\n",
       "      <td>64</td>\n",
       "      <td>275</td>\n",
       "      <td>18</td>\n",
       "      <td>0</td>\n",
       "    </tr>\n",
       "    <tr>\n",
       "      <th>Kammanahalli</th>\n",
       "      <td>2</td>\n",
       "      <td>21</td>\n",
       "      <td>260</td>\n",
       "      <td>21</td>\n",
       "      <td>182</td>\n",
       "      <td>6</td>\n",
       "      <td>0</td>\n",
       "    </tr>\n",
       "    <tr>\n",
       "      <th>Koramangala 1st Block</th>\n",
       "      <td>3</td>\n",
       "      <td>21</td>\n",
       "      <td>509</td>\n",
       "      <td>41</td>\n",
       "      <td>262</td>\n",
       "      <td>7</td>\n",
       "      <td>8</td>\n",
       "    </tr>\n",
       "    <tr>\n",
       "      <th>Koramangala 4th Block</th>\n",
       "      <td>21</td>\n",
       "      <td>53</td>\n",
       "      <td>359</td>\n",
       "      <td>56</td>\n",
       "      <td>260</td>\n",
       "      <td>59</td>\n",
       "      <td>33</td>\n",
       "    </tr>\n",
       "    <tr>\n",
       "      <th>Koramangala 5th Block</th>\n",
       "      <td>60</td>\n",
       "      <td>146</td>\n",
       "      <td>965</td>\n",
       "      <td>200</td>\n",
       "      <td>789</td>\n",
       "      <td>78</td>\n",
       "      <td>57</td>\n",
       "    </tr>\n",
       "    <tr>\n",
       "      <th>Koramangala 6th Block</th>\n",
       "      <td>18</td>\n",
       "      <td>40</td>\n",
       "      <td>467</td>\n",
       "      <td>70</td>\n",
       "      <td>383</td>\n",
       "      <td>51</td>\n",
       "      <td>23</td>\n",
       "    </tr>\n",
       "    <tr>\n",
       "      <th>Koramangala 7th Block</th>\n",
       "      <td>25</td>\n",
       "      <td>44</td>\n",
       "      <td>447</td>\n",
       "      <td>102</td>\n",
       "      <td>388</td>\n",
       "      <td>25</td>\n",
       "      <td>22</td>\n",
       "    </tr>\n",
       "    <tr>\n",
       "      <th>Lavelle Road</th>\n",
       "      <td>30</td>\n",
       "      <td>22</td>\n",
       "      <td>115</td>\n",
       "      <td>43</td>\n",
       "      <td>181</td>\n",
       "      <td>54</td>\n",
       "      <td>31</td>\n",
       "    </tr>\n",
       "    <tr>\n",
       "      <th>MG Road</th>\n",
       "      <td>51</td>\n",
       "      <td>76</td>\n",
       "      <td>213</td>\n",
       "      <td>56</td>\n",
       "      <td>312</td>\n",
       "      <td>52</td>\n",
       "      <td>32</td>\n",
       "    </tr>\n",
       "    <tr>\n",
       "      <th>Malleshwaram</th>\n",
       "      <td>11</td>\n",
       "      <td>29</td>\n",
       "      <td>234</td>\n",
       "      <td>70</td>\n",
       "      <td>263</td>\n",
       "      <td>20</td>\n",
       "      <td>14</td>\n",
       "    </tr>\n",
       "    <tr>\n",
       "      <th>Marathahalli</th>\n",
       "      <td>34</td>\n",
       "      <td>26</td>\n",
       "      <td>763</td>\n",
       "      <td>75</td>\n",
       "      <td>485</td>\n",
       "      <td>22</td>\n",
       "      <td>2</td>\n",
       "    </tr>\n",
       "    <tr>\n",
       "      <th>New BEL Road</th>\n",
       "      <td>4</td>\n",
       "      <td>25</td>\n",
       "      <td>265</td>\n",
       "      <td>26</td>\n",
       "      <td>170</td>\n",
       "      <td>8</td>\n",
       "      <td>8</td>\n",
       "    </tr>\n",
       "    <tr>\n",
       "      <th>Old Airport Road</th>\n",
       "      <td>12</td>\n",
       "      <td>4</td>\n",
       "      <td>159</td>\n",
       "      <td>29</td>\n",
       "      <td>128</td>\n",
       "      <td>12</td>\n",
       "      <td>9</td>\n",
       "    </tr>\n",
       "    <tr>\n",
       "      <th>Rajajinagar</th>\n",
       "      <td>10</td>\n",
       "      <td>3</td>\n",
       "      <td>203</td>\n",
       "      <td>40</td>\n",
       "      <td>192</td>\n",
       "      <td>3</td>\n",
       "      <td>10</td>\n",
       "    </tr>\n",
       "    <tr>\n",
       "      <th>Residency Road</th>\n",
       "      <td>20</td>\n",
       "      <td>26</td>\n",
       "      <td>154</td>\n",
       "      <td>53</td>\n",
       "      <td>267</td>\n",
       "      <td>55</td>\n",
       "      <td>26</td>\n",
       "    </tr>\n",
       "    <tr>\n",
       "      <th>Richmond Road</th>\n",
       "      <td>63</td>\n",
       "      <td>16</td>\n",
       "      <td>186</td>\n",
       "      <td>50</td>\n",
       "      <td>260</td>\n",
       "      <td>16</td>\n",
       "      <td>12</td>\n",
       "    </tr>\n",
       "    <tr>\n",
       "      <th>Sarjapur Road</th>\n",
       "      <td>25</td>\n",
       "      <td>14</td>\n",
       "      <td>447</td>\n",
       "      <td>70</td>\n",
       "      <td>256</td>\n",
       "      <td>19</td>\n",
       "      <td>21</td>\n",
       "    </tr>\n",
       "    <tr>\n",
       "      <th>Shanti Nagar</th>\n",
       "      <td>9</td>\n",
       "      <td>18</td>\n",
       "      <td>150</td>\n",
       "      <td>29</td>\n",
       "      <td>149</td>\n",
       "      <td>9</td>\n",
       "      <td>2</td>\n",
       "    </tr>\n",
       "    <tr>\n",
       "      <th>St. Marks Road</th>\n",
       "      <td>5</td>\n",
       "      <td>10</td>\n",
       "      <td>111</td>\n",
       "      <td>10</td>\n",
       "      <td>145</td>\n",
       "      <td>40</td>\n",
       "      <td>22</td>\n",
       "    </tr>\n",
       "    <tr>\n",
       "      <th>Ulsoor</th>\n",
       "      <td>16</td>\n",
       "      <td>50</td>\n",
       "      <td>375</td>\n",
       "      <td>54</td>\n",
       "      <td>309</td>\n",
       "      <td>18</td>\n",
       "      <td>21</td>\n",
       "    </tr>\n",
       "    <tr>\n",
       "      <th>Whitefield</th>\n",
       "      <td>26</td>\n",
       "      <td>47</td>\n",
       "      <td>738</td>\n",
       "      <td>91</td>\n",
       "      <td>590</td>\n",
       "      <td>46</td>\n",
       "      <td>30</td>\n",
       "    </tr>\n",
       "    <tr>\n",
       "      <th>others</th>\n",
       "      <td>89</td>\n",
       "      <td>129</td>\n",
       "      <td>2487</td>\n",
       "      <td>284</td>\n",
       "      <td>1547</td>\n",
       "      <td>80</td>\n",
       "      <td>51</td>\n",
       "    </tr>\n",
       "  </tbody>\n",
       "</table>\n",
       "</div>"
      ],
      "text/plain": [
       "                        name                                   \\\n",
       "Type                  Buffet Cafes Delivery Desserts Dine-out   \n",
       "location                                                        \n",
       "BTM                       18    71     2432      125     1195   \n",
       "Banashankari               7    36      347       57      284   \n",
       "Banaswadi                  0    20      225       25      186   \n",
       "Bannerghatta Road          9    37      639       83      445   \n",
       "Basavanagudi               7    11      301       52      219   \n",
       "Bellandur                 28    31      466       58      380   \n",
       "Brigade Road              25    41      427       83      393   \n",
       "Brookefield                6    17      277       37      202   \n",
       "Church Street             19    46      185       29      213   \n",
       "Cunningham Road           29    28      190       26      178   \n",
       "Domlur                    15    13      218       27      110   \n",
       "Electronic City           21    18      355       46      353   \n",
       "Frazer Town                1    10      360       49      139   \n",
       "HSR                       16    45     1350       94      458   \n",
       "Indiranagar               36    92      961      124      461   \n",
       "JP Nagar                  42    66      873      124      555   \n",
       "Jayanagar                 24    72      904      136      486   \n",
       "Kalyan Nagar               9    37      289       64      275   \n",
       "Kammanahalli               2    21      260       21      182   \n",
       "Koramangala 1st Block      3    21      509       41      262   \n",
       "Koramangala 4th Block     21    53      359       56      260   \n",
       "Koramangala 5th Block     60   146      965      200      789   \n",
       "Koramangala 6th Block     18    40      467       70      383   \n",
       "Koramangala 7th Block     25    44      447      102      388   \n",
       "Lavelle Road              30    22      115       43      181   \n",
       "MG Road                   51    76      213       56      312   \n",
       "Malleshwaram              11    29      234       70      263   \n",
       "Marathahalli              34    26      763       75      485   \n",
       "New BEL Road               4    25      265       26      170   \n",
       "Old Airport Road          12     4      159       29      128   \n",
       "Rajajinagar               10     3      203       40      192   \n",
       "Residency Road            20    26      154       53      267   \n",
       "Richmond Road             63    16      186       50      260   \n",
       "Sarjapur Road             25    14      447       70      256   \n",
       "Shanti Nagar               9    18      150       29      149   \n",
       "St. Marks Road             5    10      111       10      145   \n",
       "Ulsoor                    16    50      375       54      309   \n",
       "Whitefield                26    47      738       91      590   \n",
       "others                    89   129     2487      284     1547   \n",
       "\n",
       "                                                        \n",
       "Type                  Drinks & nightlife Pubs and bars  \n",
       "location                                                \n",
       "BTM                                   19            13  \n",
       "Banashankari                          13             0  \n",
       "Banaswadi                              6             1  \n",
       "Bannerghatta Road                      9             2  \n",
       "Basavanagudi                           5             0  \n",
       "Bellandur                             17            16  \n",
       "Brigade Road                          57            22  \n",
       "Brookefield                            4             0  \n",
       "Church Street                         31            20  \n",
       "Cunningham Road                       16             7  \n",
       "Domlur                                12            11  \n",
       "Electronic City                       20            19  \n",
       "Frazer Town                            2             2  \n",
       "HSR                                   12            17  \n",
       "Indiranagar                           61            60  \n",
       "JP Nagar                              44             6  \n",
       "Jayanagar                             12             0  \n",
       "Kalyan Nagar                          18             0  \n",
       "Kammanahalli                           6             0  \n",
       "Koramangala 1st Block                  7             8  \n",
       "Koramangala 4th Block                 59            33  \n",
       "Koramangala 5th Block                 78            57  \n",
       "Koramangala 6th Block                 51            23  \n",
       "Koramangala 7th Block                 25            22  \n",
       "Lavelle Road                          54            31  \n",
       "MG Road                               52            32  \n",
       "Malleshwaram                          20            14  \n",
       "Marathahalli                          22             2  \n",
       "New BEL Road                           8             8  \n",
       "Old Airport Road                      12             9  \n",
       "Rajajinagar                            3            10  \n",
       "Residency Road                        55            26  \n",
       "Richmond Road                         16            12  \n",
       "Sarjapur Road                         19            21  \n",
       "Shanti Nagar                           9             2  \n",
       "St. Marks Road                        40            22  \n",
       "Ulsoor                                18            21  \n",
       "Whitefield                            46            30  \n",
       "others                                80            51  "
      ]
     },
     "execution_count": 39,
     "metadata": {},
     "output_type": "execute_result"
    }
   ],
   "source": [
    "df3 = df.groupby(['location', 'Type'])['name'].count()\n",
    "df3.to_csv('location_Type.csv')\n",
    "df3 = pd.read_csv('location_Type.csv')\n",
    "df3 = pd.pivot_table(df3, values = None, index=['location'], columns = ['Type'], fill_value = 0, aggfunc = 'sum')\n",
    "df3"
   ]
  },
  {
   "cell_type": "code",
   "execution_count": 40,
   "id": "ab773e3d",
   "metadata": {
    "execution": {
     "iopub.execute_input": "2024-04-03T21:06:51.225317Z",
     "iopub.status.busy": "2024-04-03T21:06:51.224635Z",
     "iopub.status.idle": "2024-04-03T21:06:52.896381Z",
     "shell.execute_reply": "2024-04-03T21:06:52.894885Z"
    },
    "papermill": {
     "duration": 1.708698,
     "end_time": "2024-04-03T21:06:52.899448",
     "exception": false,
     "start_time": "2024-04-03T21:06:51.190750",
     "status": "completed"
    },
    "tags": []
   },
   "outputs": [
    {
     "data": {
      "text/plain": [
       "<Axes: xlabel='location'>"
      ]
     },
     "execution_count": 40,
     "metadata": {},
     "output_type": "execute_result"
    },
    {
     "data": {
      "image/png": "[encoded data removed]",
      "text/plain": [
       "<Figure size 3600x800 with 1 Axes>"
      ]
     },
     "metadata": {},
     "output_type": "display_data"
    }
   ],
   "source": [
    "df3.plot(kind = 'bar', figsize = (36,8))"
   ]
  },
  {
   "cell_type": "markdown",
   "id": "40c20d14",
   "metadata": {
    "papermill": {
     "duration": 0.0349,
     "end_time": "2024-04-03T21:06:52.968922",
     "exception": false,
     "start_time": "2024-04-03T21:06:52.934022",
     "status": "completed"
    },
    "tags": []
   },
   "source": [
    "No of Votes,Location Wise"
   ]
  },
  {
   "cell_type": "code",
   "execution_count": 41,
   "id": "497d9288",
   "metadata": {
    "execution": {
     "iopub.execute_input": "2024-04-03T21:06:53.045224Z",
     "iopub.status.busy": "2024-04-03T21:06:53.044434Z",
     "iopub.status.idle": "2024-04-03T21:06:53.068733Z",
     "shell.execute_reply": "2024-04-03T21:06:53.067815Z"
    },
    "papermill": {
     "duration": 0.063634,
     "end_time": "2024-04-03T21:06:53.071248",
     "exception": false,
     "start_time": "2024-04-03T21:06:53.007614",
     "status": "completed"
    },
    "tags": []
   },
   "outputs": [
    {
     "data": {
      "text/plain": [
       "location\n",
       "Koramangala 5th Block    2214083\n",
       "Indiranagar              1165909\n",
       "Koramangala 4th Block     685156\n",
       "others                    622053\n",
       "Church Street             590306\n",
       "Name: votes, dtype: int64"
      ]
     },
     "execution_count": 41,
     "metadata": {},
     "output_type": "execute_result"
    }
   ],
   "source": [
    "df4 = df[['location', 'votes']]\n",
    "df4.drop_duplicates()\n",
    "# Group by 'location' and sum the 'votes' for each location\n",
    "df5 = df4.groupby('location')['votes'].sum()\n",
    "\n",
    "# Sort the DataFrame by votes in descending order\n",
    "df5 = df5.sort_values(ascending=False)\n",
    "\n",
    "# Display the top rows\n",
    "df5.head()"
   ]
  },
  {
   "cell_type": "code",
   "execution_count": 42,
   "id": "aa50833f",
   "metadata": {
    "execution": {
     "iopub.execute_input": "2024-04-03T21:06:53.156362Z",
     "iopub.status.busy": "2024-04-03T21:06:53.155633Z",
     "iopub.status.idle": "2024-04-03T21:06:53.803061Z",
     "shell.execute_reply": "2024-04-03T21:06:53.801744Z"
    },
    "papermill": {
     "duration": 0.697556,
     "end_time": "2024-04-03T21:06:53.805754",
     "exception": false,
     "start_time": "2024-04-03T21:06:53.108198",
     "status": "completed"
    },
    "tags": []
   },
   "outputs": [
    {
     "data": {
      "image/png": "[encoded data removed]",
      "text/plain": [
       "<Figure size 1500x800 with 1 Axes>"
      ]
     },
     "metadata": {},
     "output_type": "display_data"
    }
   ],
   "source": [
    "plt.figure(figsize=(15, 8))\n",
    "sns.barplot(x=df5.index, y=df5.values)  # Use df5.values to access the values as an array\n",
    "plt.xticks(rotation=90)\n",
    "plt.show()"
   ]
  },
  {
   "cell_type": "markdown",
   "id": "c4a89707",
   "metadata": {
    "papermill": {
     "duration": 0.036663,
     "end_time": "2024-04-03T21:06:53.879290",
     "exception": false,
     "start_time": "2024-04-03T21:06:53.842627",
     "status": "completed"
    },
    "tags": []
   },
   "source": [
    "Visualizing Top Cuisines"
   ]
  },
  {
   "cell_type": "code",
   "execution_count": 43,
   "id": "5f60efe5",
   "metadata": {
    "execution": {
     "iopub.execute_input": "2024-04-03T21:06:53.953045Z",
     "iopub.status.busy": "2024-04-03T21:06:53.952592Z",
     "iopub.status.idle": "2024-04-03T21:06:53.980826Z",
     "shell.execute_reply": "2024-04-03T21:06:53.979601Z"
    },
    "papermill": {
     "duration": 0.068011,
     "end_time": "2024-04-03T21:06:53.983351",
     "exception": false,
     "start_time": "2024-04-03T21:06:53.915340",
     "status": "completed"
    },
    "tags": []
   },
   "outputs": [
    {
     "data": {
      "text/html": [
       "<div>\n",
       "<style scoped>\n",
       "    .dataframe tbody tr th:only-of-type {\n",
       "        vertical-align: middle;\n",
       "    }\n",
       "\n",
       "    .dataframe tbody tr th {\n",
       "        vertical-align: top;\n",
       "    }\n",
       "\n",
       "    .dataframe thead th {\n",
       "        text-align: right;\n",
       "    }\n",
       "</style>\n",
       "<table border=\"1\" class=\"dataframe\">\n",
       "  <thead>\n",
       "    <tr style=\"text-align: right;\">\n",
       "      <th></th>\n",
       "      <th>votes</th>\n",
       "    </tr>\n",
       "    <tr>\n",
       "      <th>cuisines</th>\n",
       "      <th></th>\n",
       "    </tr>\n",
       "  </thead>\n",
       "  <tbody>\n",
       "    <tr>\n",
       "      <th>others</th>\n",
       "      <td>11600891</td>\n",
       "    </tr>\n",
       "    <tr>\n",
       "      <th>North Indian</th>\n",
       "      <td>516306</td>\n",
       "    </tr>\n",
       "    <tr>\n",
       "      <th>North Indian, Chinese</th>\n",
       "      <td>258225</td>\n",
       "    </tr>\n",
       "    <tr>\n",
       "      <th>South Indian</th>\n",
       "      <td>161645</td>\n",
       "    </tr>\n",
       "    <tr>\n",
       "      <th>North Indian, Mughlai</th>\n",
       "      <td>103706</td>\n",
       "    </tr>\n",
       "  </tbody>\n",
       "</table>\n",
       "</div>"
      ],
      "text/plain": [
       "                          votes\n",
       "cuisines                       \n",
       "others                 11600891\n",
       "North Indian             516306\n",
       "North Indian, Chinese    258225\n",
       "South Indian             161645\n",
       "North Indian, Mughlai    103706"
      ]
     },
     "execution_count": 43,
     "metadata": {},
     "output_type": "execute_result"
    }
   ],
   "source": [
    "df6 = df[['cuisines', 'votes']]\n",
    "df6.drop_duplicates()\n",
    "\n",
    "df7 = df6.groupby(['cuisines'])['votes'].sum()\n",
    "df7 = df7.to_frame()\n",
    "df7 = df7.sort_values('votes', ascending = False)\n",
    "df7.head()"
   ]
  },
  {
   "cell_type": "code",
   "execution_count": 44,
   "id": "c38b8457",
   "metadata": {
    "execution": {
     "iopub.execute_input": "2024-04-03T21:06:54.057844Z",
     "iopub.status.busy": "2024-04-03T21:06:54.057060Z",
     "iopub.status.idle": "2024-04-03T21:06:54.068492Z",
     "shell.execute_reply": "2024-04-03T21:06:54.067206Z"
    },
    "papermill": {
     "duration": 0.051463,
     "end_time": "2024-04-03T21:06:54.071138",
     "exception": false,
     "start_time": "2024-04-03T21:06:54.019675",
     "status": "completed"
    },
    "tags": []
   },
   "outputs": [
    {
     "data": {
      "text/html": [
       "<div>\n",
       "<style scoped>\n",
       "    .dataframe tbody tr th:only-of-type {\n",
       "        vertical-align: middle;\n",
       "    }\n",
       "\n",
       "    .dataframe tbody tr th {\n",
       "        vertical-align: top;\n",
       "    }\n",
       "\n",
       "    .dataframe thead th {\n",
       "        text-align: right;\n",
       "    }\n",
       "</style>\n",
       "<table border=\"1\" class=\"dataframe\">\n",
       "  <thead>\n",
       "    <tr style=\"text-align: right;\">\n",
       "      <th></th>\n",
       "      <th>votes</th>\n",
       "    </tr>\n",
       "    <tr>\n",
       "      <th>cuisines</th>\n",
       "      <th></th>\n",
       "    </tr>\n",
       "  </thead>\n",
       "  <tbody>\n",
       "    <tr>\n",
       "      <th>North Indian</th>\n",
       "      <td>516306</td>\n",
       "    </tr>\n",
       "    <tr>\n",
       "      <th>North Indian, Chinese</th>\n",
       "      <td>258225</td>\n",
       "    </tr>\n",
       "    <tr>\n",
       "      <th>South Indian</th>\n",
       "      <td>161645</td>\n",
       "    </tr>\n",
       "    <tr>\n",
       "      <th>North Indian, Mughlai</th>\n",
       "      <td>103706</td>\n",
       "    </tr>\n",
       "    <tr>\n",
       "      <th>Chinese</th>\n",
       "      <td>101728</td>\n",
       "    </tr>\n",
       "  </tbody>\n",
       "</table>\n",
       "</div>"
      ],
      "text/plain": [
       "                        votes\n",
       "cuisines                     \n",
       "North Indian           516306\n",
       "North Indian, Chinese  258225\n",
       "South Indian           161645\n",
       "North Indian, Mughlai  103706\n",
       "Chinese                101728"
      ]
     },
     "execution_count": 44,
     "metadata": {},
     "output_type": "execute_result"
    }
   ],
   "source": [
    "df7 = df7.iloc[1:, :]\n",
    "df7.head()"
   ]
  },
  {
   "cell_type": "code",
   "execution_count": 45,
   "id": "f596865d",
   "metadata": {
    "execution": {
     "iopub.execute_input": "2024-04-03T21:06:54.147438Z",
     "iopub.status.busy": "2024-04-03T21:06:54.146714Z",
     "iopub.status.idle": "2024-04-03T21:06:55.223471Z",
     "shell.execute_reply": "2024-04-03T21:06:55.222299Z"
    },
    "papermill": {
     "duration": 1.117667,
     "end_time": "2024-04-03T21:06:55.226142",
     "exception": false,
     "start_time": "2024-04-03T21:06:54.108475",
     "status": "completed"
    },
    "tags": []
   },
   "outputs": [
    {
     "data": {
      "text/plain": [
       "(array([ 0,  1,  2,  3,  4,  5,  6,  7,  8,  9, 10, 11, 12, 13, 14, 15, 16,\n",
       "        17, 18, 19, 20, 21, 22, 23, 24, 25, 26, 27, 28, 29, 30, 31, 32, 33,\n",
       "        34, 35, 36, 37, 38, 39, 40, 41, 42, 43, 44, 45, 46, 47, 48, 49, 50,\n",
       "        51, 52, 53, 54, 55, 56, 57, 58, 59, 60]),\n",
       " [Text(0, 0, 'North Indian'),\n",
       "  Text(1, 0, 'North Indian, Chinese'),\n",
       "  Text(2, 0, 'South Indian'),\n",
       "  Text(3, 0, 'North Indian, Mughlai'),\n",
       "  Text(4, 0, 'Chinese'),\n",
       "  Text(5, 0, 'Cafe'),\n",
       "  Text(6, 0, 'North Indian, South Indian'),\n",
       "  Text(7, 0, 'Desserts'),\n",
       "  Text(8, 0, 'Chinese, Momos'),\n",
       "  Text(9, 0, 'Ice Cream, Desserts'),\n",
       "  Text(10, 0, 'Cafe, Continental'),\n",
       "  Text(11, 0, 'Biryani, North Indian, Chinese'),\n",
       "  Text(12, 0, 'Chinese, Thai, Momos'),\n",
       "  Text(13, 0, 'South Indian, North Indian, Chinese'),\n",
       "  Text(14, 0, 'Desserts, Beverages'),\n",
       "  Text(15, 0, 'Biryani'),\n",
       "  Text(16, 0, 'Finger Food'),\n",
       "  Text(17, 0, 'Bakery, Desserts'),\n",
       "  Text(18, 0, 'Burger, Fast Food'),\n",
       "  Text(19, 0, 'Continental'),\n",
       "  Text(20, 0, 'Cafe, Desserts'),\n",
       "  Text(21, 0, 'Andhra, Biryani'),\n",
       "  Text(22, 0, 'North Indian, Continental'),\n",
       "  Text(23, 0, 'Pizza, Fast Food'),\n",
       "  Text(24, 0, 'Chinese, Thai'),\n",
       "  Text(25, 0, 'North Indian, Chinese, Biryani'),\n",
       "  Text(26, 0, 'South Indian, North Indian, Chinese, Street Food'),\n",
       "  Text(27, 0, 'Mithai, Street Food'),\n",
       "  Text(28, 0, 'Desserts, Ice Cream'),\n",
       "  Text(29, 0, 'Biryani, North Indian'),\n",
       "  Text(30, 0, 'North Indian, Street Food'),\n",
       "  Text(31, 0, 'North Indian, South Indian, Chinese'),\n",
       "  Text(32, 0, 'Fast Food'),\n",
       "  Text(33, 0, 'Chinese, North Indian'),\n",
       "  Text(34, 0, 'North Indian, Biryani'),\n",
       "  Text(35, 0, 'Biryani, Kebab'),\n",
       "  Text(36, 0, 'Italian, Pizza'),\n",
       "  Text(37, 0, 'North Indian, Chinese, Fast Food'),\n",
       "  Text(38, 0, 'North Indian, Chinese, Continental'),\n",
       "  Text(39, 0, 'Desserts, Bakery'),\n",
       "  Text(40, 0, 'Arabian'),\n",
       "  Text(41, 0, 'North Indian, Chinese, South Indian'),\n",
       "  Text(42, 0, 'Pizza'),\n",
       "  Text(43, 0, 'South Indian, North Indian'),\n",
       "  Text(44, 0, 'Beverages, Fast Food'),\n",
       "  Text(45, 0, 'Fast Food, Rolls'),\n",
       "  Text(46, 0, 'Bakery'),\n",
       "  Text(47, 0, 'Andhra'),\n",
       "  Text(48, 0, 'Street Food'),\n",
       "  Text(49, 0, 'Kerala'),\n",
       "  Text(50, 0, 'South Indian, Biryani'),\n",
       "  Text(51, 0, 'Cafe, Bakery'),\n",
       "  Text(52, 0, 'Biryani, Fast Food'),\n",
       "  Text(53, 0, 'North Indian, Fast Food'),\n",
       "  Text(54, 0, 'Bakery, Fast Food'),\n",
       "  Text(55, 0, 'Fast Food, Burger'),\n",
       "  Text(56, 0, 'Cafe, Fast Food'),\n",
       "  Text(57, 0, 'South Indian, Chinese'),\n",
       "  Text(58, 0, 'Ice Cream'),\n",
       "  Text(59, 0, 'Beverages'),\n",
       "  Text(60, 0, 'Fast Food, Beverages')])"
      ]
     },
     "execution_count": 45,
     "metadata": {},
     "output_type": "execute_result"
    },
    {
     "data": {
      "image/png": "[encoded data removed]",
      "text/plain": [
       "<Figure size 1500x800 with 1 Axes>"
      ]
     },
     "metadata": {},
     "output_type": "display_data"
    }
   ],
   "source": [
    "plt.figure(figsize=(15, 8))\n",
    "sns.barplot(x=df7.index, y=df7.values.flatten())  # Use df7.values.flatten() to convert values to 1D array\n",
    "plt.xticks(rotation=90)"
   ]
  }
 ],
 "metadata": {
  "kaggle": {
   "accelerator": "none",
   "dataSources": [
    {
     "datasetId": 926506,
     "sourceId": 1567895,
     "sourceType": "datasetVersion"
    }
   ],
   "dockerImageVersionId": 30673,
   "isGpuEnabled": false,
   "isInternetEnabled": false,
   "language": "python",
   "sourceType": "notebook"
  },
  "kernelspec": {
   "display_name": "Python 3",
   "language": "python",
   "name": "python3"
  },
  "language_info": {
   "codemirror_mode": {
    "name": "ipython",
    "version": 3
   },
   "file_extension": ".py",
   "mimetype": "text/x-python",
   "name": "python",
   "nbconvert_exporter": "python",
   "pygments_lexer": "ipython3",
   "version": "3.10.13"
  },
  "papermill": {
   "default_parameters": {},
   "duration": 32.160879,
   "end_time": "2024-04-03T21:06:56.088217",
   "environment_variables": {},
   "exception": null,
   "input_path": "__notebook__.ipynb",
   "output_path": "__notebook__.ipynb",
   "parameters": {},
   "start_time": "2024-04-03T21:06:23.927338",
   "version": "2.5.0"
  }
 },
 "nbformat": 4,
 "nbformat_minor": 5
}
